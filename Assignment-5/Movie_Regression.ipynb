{
 "cells": [
  {
   "cell_type": "code",
   "execution_count": 1,
   "id": "ecf18adc",
   "metadata": {},
   "outputs": [],
   "source": [
    "#Import all requird libraries\n",
    "import pandas as pd\n",
    "import numpy as np\n",
    "import matplotlib.pyplot as plt\n",
    "%matplotlib inline\n",
    "import seaborn as sns\n",
    "\n",
    "from sklearn.preprocessing import LabelEncoder,OrdinalEncoder\n",
    "from sklearn.preprocessing import MinMaxScaler\n",
    "from sklearn.model_selection import train_test_split\n",
    "from sklearn.linear_model import LinearRegression"
   ]
  },
  {
   "cell_type": "code",
   "execution_count": 2,
   "id": "d0724306",
   "metadata": {},
   "outputs": [],
   "source": [
    "new_data=pd.read_csv(\"Movie_regression_cleaned.xls\")"
   ]
  },
  {
   "cell_type": "code",
   "execution_count": 3,
   "id": "8a0de8ff",
   "metadata": {},
   "outputs": [
    {
     "data": {
      "text/plain": [
       "Index(['Marketing expense', 'Production expense', 'Multiplex coverage',\n",
       "       'Budget', 'Movie_length', 'Lead_ Actor_Rating', 'Lead_Actress_rating',\n",
       "       'Director_rating', 'Producer_rating', 'Critic_rating', 'Trailer_views',\n",
       "       '3D_available', 'Time_taken', 'Twitter_hastags', 'Genre',\n",
       "       'Avg_age_actors', 'Num_multiplex', 'Collection'],\n",
       "      dtype='object')"
      ]
     },
     "execution_count": 3,
     "metadata": {},
     "output_type": "execute_result"
    }
   ],
   "source": [
    "new_data.columns"
   ]
  },
  {
   "cell_type": "code",
   "execution_count": 4,
   "id": "41903bdb",
   "metadata": {},
   "outputs": [
    {
     "data": {
      "text/html": [
       "<div>\n",
       "<style scoped>\n",
       "    .dataframe tbody tr th:only-of-type {\n",
       "        vertical-align: middle;\n",
       "    }\n",
       "\n",
       "    .dataframe tbody tr th {\n",
       "        vertical-align: top;\n",
       "    }\n",
       "\n",
       "    .dataframe thead th {\n",
       "        text-align: right;\n",
       "    }\n",
       "</style>\n",
       "<table border=\"1\" class=\"dataframe\">\n",
       "  <thead>\n",
       "    <tr style=\"text-align: right;\">\n",
       "      <th></th>\n",
       "      <th>Marketing expense</th>\n",
       "      <th>Production expense</th>\n",
       "      <th>Multiplex coverage</th>\n",
       "      <th>Budget</th>\n",
       "      <th>Movie_length</th>\n",
       "      <th>Lead_ Actor_Rating</th>\n",
       "      <th>Lead_Actress_rating</th>\n",
       "      <th>Director_rating</th>\n",
       "      <th>Producer_rating</th>\n",
       "      <th>Critic_rating</th>\n",
       "      <th>Trailer_views</th>\n",
       "      <th>3D_available</th>\n",
       "      <th>Time_taken</th>\n",
       "      <th>Twitter_hastags</th>\n",
       "      <th>Genre</th>\n",
       "      <th>Avg_age_actors</th>\n",
       "      <th>Num_multiplex</th>\n",
       "      <th>Collection</th>\n",
       "    </tr>\n",
       "  </thead>\n",
       "  <tbody>\n",
       "    <tr>\n",
       "      <th>0</th>\n",
       "      <td>20.1264</td>\n",
       "      <td>59.62</td>\n",
       "      <td>0.462</td>\n",
       "      <td>36524.125</td>\n",
       "      <td>138.7</td>\n",
       "      <td>7.825</td>\n",
       "      <td>8.095</td>\n",
       "      <td>7.910</td>\n",
       "      <td>7.995</td>\n",
       "      <td>7.94</td>\n",
       "      <td>527367</td>\n",
       "      <td>YES</td>\n",
       "      <td>109.60</td>\n",
       "      <td>223.840</td>\n",
       "      <td>Thriller</td>\n",
       "      <td>23</td>\n",
       "      <td>494</td>\n",
       "      <td>48000</td>\n",
       "    </tr>\n",
       "    <tr>\n",
       "      <th>1</th>\n",
       "      <td>20.5462</td>\n",
       "      <td>69.14</td>\n",
       "      <td>0.531</td>\n",
       "      <td>35668.655</td>\n",
       "      <td>152.4</td>\n",
       "      <td>7.505</td>\n",
       "      <td>7.650</td>\n",
       "      <td>7.440</td>\n",
       "      <td>7.470</td>\n",
       "      <td>7.44</td>\n",
       "      <td>494055</td>\n",
       "      <td>NO</td>\n",
       "      <td>146.64</td>\n",
       "      <td>243.456</td>\n",
       "      <td>Drama</td>\n",
       "      <td>42</td>\n",
       "      <td>462</td>\n",
       "      <td>43200</td>\n",
       "    </tr>\n",
       "    <tr>\n",
       "      <th>2</th>\n",
       "      <td>20.5458</td>\n",
       "      <td>69.14</td>\n",
       "      <td>0.531</td>\n",
       "      <td>39912.675</td>\n",
       "      <td>134.6</td>\n",
       "      <td>7.485</td>\n",
       "      <td>7.570</td>\n",
       "      <td>7.495</td>\n",
       "      <td>7.515</td>\n",
       "      <td>7.44</td>\n",
       "      <td>547051</td>\n",
       "      <td>NO</td>\n",
       "      <td>147.88</td>\n",
       "      <td>2022.400</td>\n",
       "      <td>Comedy</td>\n",
       "      <td>38</td>\n",
       "      <td>458</td>\n",
       "      <td>69400</td>\n",
       "    </tr>\n",
       "    <tr>\n",
       "      <th>3</th>\n",
       "      <td>20.6474</td>\n",
       "      <td>59.36</td>\n",
       "      <td>0.542</td>\n",
       "      <td>38873.890</td>\n",
       "      <td>119.3</td>\n",
       "      <td>6.895</td>\n",
       "      <td>7.035</td>\n",
       "      <td>6.920</td>\n",
       "      <td>7.020</td>\n",
       "      <td>8.26</td>\n",
       "      <td>516279</td>\n",
       "      <td>YES</td>\n",
       "      <td>185.36</td>\n",
       "      <td>225.344</td>\n",
       "      <td>Drama</td>\n",
       "      <td>45</td>\n",
       "      <td>472</td>\n",
       "      <td>66800</td>\n",
       "    </tr>\n",
       "    <tr>\n",
       "      <th>4</th>\n",
       "      <td>21.3810</td>\n",
       "      <td>59.36</td>\n",
       "      <td>0.542</td>\n",
       "      <td>39701.585</td>\n",
       "      <td>127.7</td>\n",
       "      <td>6.920</td>\n",
       "      <td>7.070</td>\n",
       "      <td>6.815</td>\n",
       "      <td>7.070</td>\n",
       "      <td>8.26</td>\n",
       "      <td>531448</td>\n",
       "      <td>NO</td>\n",
       "      <td>176.48</td>\n",
       "      <td>225.792</td>\n",
       "      <td>Drama</td>\n",
       "      <td>55</td>\n",
       "      <td>395</td>\n",
       "      <td>72400</td>\n",
       "    </tr>\n",
       "  </tbody>\n",
       "</table>\n",
       "</div>"
      ],
      "text/plain": [
       "   Marketing expense  Production expense  Multiplex coverage     Budget  \\\n",
       "0            20.1264               59.62               0.462  36524.125   \n",
       "1            20.5462               69.14               0.531  35668.655   \n",
       "2            20.5458               69.14               0.531  39912.675   \n",
       "3            20.6474               59.36               0.542  38873.890   \n",
       "4            21.3810               59.36               0.542  39701.585   \n",
       "\n",
       "   Movie_length  Lead_ Actor_Rating  Lead_Actress_rating  Director_rating  \\\n",
       "0         138.7               7.825                8.095            7.910   \n",
       "1         152.4               7.505                7.650            7.440   \n",
       "2         134.6               7.485                7.570            7.495   \n",
       "3         119.3               6.895                7.035            6.920   \n",
       "4         127.7               6.920                7.070            6.815   \n",
       "\n",
       "   Producer_rating  Critic_rating  Trailer_views 3D_available  Time_taken  \\\n",
       "0            7.995           7.94         527367          YES      109.60   \n",
       "1            7.470           7.44         494055           NO      146.64   \n",
       "2            7.515           7.44         547051           NO      147.88   \n",
       "3            7.020           8.26         516279          YES      185.36   \n",
       "4            7.070           8.26         531448           NO      176.48   \n",
       "\n",
       "   Twitter_hastags     Genre  Avg_age_actors  Num_multiplex  Collection  \n",
       "0          223.840  Thriller              23            494       48000  \n",
       "1          243.456     Drama              42            462       43200  \n",
       "2         2022.400    Comedy              38            458       69400  \n",
       "3          225.344     Drama              45            472       66800  \n",
       "4          225.792     Drama              55            395       72400  "
      ]
     },
     "execution_count": 4,
     "metadata": {},
     "output_type": "execute_result"
    }
   ],
   "source": [
    "new_data.head()"
   ]
  },
  {
   "cell_type": "code",
   "execution_count": 5,
   "id": "18e46655",
   "metadata": {},
   "outputs": [
    {
     "name": "stdout",
     "output_type": "stream",
     "text": [
      "                                 OLS Regression Results                                \n",
      "=======================================================================================\n",
      "Dep. Variable:             Collection   R-squared (uncentered):                   0.949\n",
      "Model:                            OLS   Adj. R-squared (uncentered):              0.948\n",
      "Method:                 Least Squares   F-statistic:                              610.4\n",
      "Date:                Mon, 11 Oct 2021   Prob (F-statistic):                   4.56e-306\n",
      "Time:                        23:19:28   Log-Likelihood:                         -5425.5\n",
      "No. Observations:                 506   AIC:                                  1.088e+04\n",
      "Df Residuals:                     491   BIC:                                  1.094e+04\n",
      "Df Model:                          15                                                  \n",
      "Covariance Type:            nonrobust                                                  \n",
      "=======================================================================================\n",
      "                          coef    std err          t      P>|t|      [0.025      0.975]\n",
      "---------------------------------------------------------------------------------------\n",
      "Marketing expense     -13.9336      3.328     -4.187      0.000     -20.472      -7.395\n",
      "Production expense   -329.9403     58.601     -5.630      0.000    -445.080    -214.801\n",
      "Multiplex coverage  -5.118e+04   7583.227     -6.749      0.000   -6.61e+04   -3.63e+04\n",
      "Budget                  1.5907      0.166      9.574      0.000       1.264       1.917\n",
      "Movie_length          -77.5448     29.681     -2.613      0.009    -135.863     -19.227\n",
      "Lead_ Actor_Rating   -776.8596   8343.113     -0.093      0.926   -1.72e+04    1.56e+04\n",
      "Lead_Actress_rating -1.438e+04   8875.593     -1.620      0.106   -3.18e+04    3061.358\n",
      "Director_rating      1.803e+04   8568.659      2.104      0.036    1195.063    3.49e+04\n",
      "Producer_rating       474.7679   4646.200      0.102      0.919   -8654.119    9603.655\n",
      "Critic_rating        1355.0942    734.970      1.844      0.066     -88.981    2799.169\n",
      "Trailer_views           0.0855      0.011      7.449      0.000       0.063       0.108\n",
      "3D_available         1.092e-12   7.16e-13      1.525      0.128   -3.15e-13     2.5e-12\n",
      "Time_taken             20.6973     12.991      1.593      0.112      -4.828      46.223\n",
      "Twitter_hastags         0.9248      4.759      0.194      0.846      -8.425      10.275\n",
      "Genre               -1.366e-12   1.26e-12     -1.088      0.277   -3.83e-12     1.1e-12\n",
      "Avg_age_actors        -27.8924     39.922     -0.699      0.485    -106.331      50.546\n",
      "Num_multiplex         -47.2381      9.309     -5.074      0.000     -65.529     -28.948\n",
      "==============================================================================\n",
      "Omnibus:                      210.247   Durbin-Watson:                   0.889\n",
      "Prob(Omnibus):                  0.000   Jarque-Bera (JB):             1055.136\n",
      "Skew:                           1.786   Prob(JB):                    7.59e-230\n",
      "Kurtosis:                       9.107   Cond. No.                     7.33e+24\n",
      "==============================================================================\n",
      "\n",
      "Notes:\n",
      "[1] R² is computed without centering (uncentered) since the model does not contain a constant.\n",
      "[2] Standard Errors assume that the covariance matrix of the errors is correctly specified.\n",
      "[3] The smallest eigenvalue is 1.96e-36. This might indicate that there are\n",
      "strong multicollinearity problems or that the design matrix is singular.\n"
     ]
    }
   ],
   "source": [
    "# Applying statsmodels for full dataset\n",
    "import statsmodels.api as smf\n",
    "\n",
    "x=new_data.drop('Collection',axis=1)\n",
    "y=new_data['Collection']\n",
    "\n",
    "x = x.apply(pd.to_numeric, errors='coerce')\n",
    "y = y.apply(pd.to_numeric, errors='coerce')\n",
    "\n",
    "x.fillna(0, inplace=True)\n",
    "y.fillna(0, inplace=True)\n",
    "\n",
    "olsModel = smf.OLS(y, x).fit()\n",
    "print(olsModel.summary())"
   ]
  },
  {
   "cell_type": "code",
   "execution_count": 6,
   "id": "6297160d",
   "metadata": {},
   "outputs": [],
   "source": [
    "# Splitting data into train test sets using train_test_split\n",
    "X_train, X_test, y_train, y_test = train_test_split(x, y, test_size=0.20, random_state = 0)"
   ]
  },
  {
   "cell_type": "code",
   "execution_count": 7,
   "id": "d8cdef92",
   "metadata": {},
   "outputs": [
    {
     "name": "stdout",
     "output_type": "stream",
     "text": [
      "                                 OLS Regression Results                                \n",
      "=======================================================================================\n",
      "Dep. Variable:             Collection   R-squared (uncentered):                   0.954\n",
      "Model:                            OLS   Adj. R-squared (uncentered):              0.953\n",
      "Method:                 Least Squares   F-statistic:                              541.4\n",
      "Date:                Mon, 11 Oct 2021   Prob (F-statistic):                   7.93e-250\n",
      "Time:                        23:19:28   Log-Likelihood:                         -4311.4\n",
      "No. Observations:                 404   AIC:                                      8653.\n",
      "Df Residuals:                     389   BIC:                                      8713.\n",
      "Df Model:                          15                                                  \n",
      "Covariance Type:            nonrobust                                                  \n",
      "=======================================================================================\n",
      "                          coef    std err          t      P>|t|      [0.025      0.975]\n",
      "---------------------------------------------------------------------------------------\n",
      "Marketing expense     -16.5315      3.802     -4.348      0.000     -24.006      -9.057\n",
      "Production expense   -354.8355     60.754     -5.841      0.000    -474.283    -235.388\n",
      "Multiplex coverage  -5.301e+04   8114.347     -6.533      0.000    -6.9e+04   -3.71e+04\n",
      "Budget                  1.5203      0.184      8.275      0.000       1.159       1.882\n",
      "Movie_length          -84.8237     32.375     -2.620      0.009    -148.475     -21.172\n",
      "Lead_ Actor_Rating   1753.2076   8988.301      0.195      0.845   -1.59e+04    1.94e+04\n",
      "Lead_Actress_rating -1.318e+04   9600.736     -1.373      0.171   -3.21e+04    5697.404\n",
      "Director_rating      1.085e+04   9347.746      1.160      0.247   -7532.259    2.92e+04\n",
      "Producer_rating      3801.4055   5030.541      0.756      0.450   -6089.046    1.37e+04\n",
      "Critic_rating        2391.9604    793.456      3.015      0.003     831.961    3951.960\n",
      "Trailer_views           0.0825      0.012      6.670      0.000       0.058       0.107\n",
      "3D_available         2.102e-12   2.99e-12      0.702      0.483   -3.78e-12    7.99e-12\n",
      "Time_taken             15.3776     13.768      1.117      0.265     -11.691      42.446\n",
      "Twitter_hastags         1.6875      4.606      0.366      0.714      -7.369      10.744\n",
      "Genre               -4.298e-13   2.41e-12     -0.178      0.858   -5.17e-12    4.31e-12\n",
      "Avg_age_actors          1.2798     43.522      0.029      0.977     -84.288      86.848\n",
      "Num_multiplex         -48.2979     10.045     -4.808      0.000     -68.046     -28.550\n",
      "==============================================================================\n",
      "Omnibus:                      150.951   Durbin-Watson:                   1.905\n",
      "Prob(Omnibus):                  0.000   Jarque-Bera (JB):              655.792\n",
      "Skew:                           1.593   Prob(JB):                    3.95e-143\n",
      "Kurtosis:                       8.368   Cond. No.                     3.72e+24\n",
      "==============================================================================\n",
      "\n",
      "Notes:\n",
      "[1] R² is computed without centering (uncentered) since the model does not contain a constant.\n",
      "[2] Standard Errors assume that the covariance matrix of the errors is correctly specified.\n",
      "[3] The smallest eigenvalue is 6.06e-36. This might indicate that there are\n",
      "strong multicollinearity problems or that the design matrix is singular.\n"
     ]
    }
   ],
   "source": [
    "#OLS model Train dataset\n",
    "olsModel = smf.OLS(y_train, X_train).fit()\n",
    "print(olsModel.summary())"
   ]
  },
  {
   "cell_type": "code",
   "execution_count": 8,
   "id": "222356e8",
   "metadata": {},
   "outputs": [
    {
     "name": "stdout",
     "output_type": "stream",
     "text": [
      "ColumnTransformer(transformers=[('proc_numeric',\n",
      "                                 Pipeline(steps=[('standardize_num',\n",
      "                                                  StandardScaler())]),\n",
      "                                 ['Marketing expense', 'Production expense',\n",
      "                                  'Multiplex coverage', 'Budget',\n",
      "                                  'Movie_length', 'Lead_ Actor_Rating',\n",
      "                                  'Lead_Actress_rating', 'Director_rating',\n",
      "                                  'Producer_rating', 'Critic_rating',\n",
      "                                  'Trailer_views', 'Time_taken',\n",
      "                                  'Twitter_hastags', 'Avg_age_actors',\n",
      "                                  'Num_multiplex']),\n",
      "                                ('categories',\n",
      "                                 Pipeline(steps=[('categoricals',\n",
      "                                                  OrdinalEncoder())]),\n",
      "                                 ['Genre', '3D_available'])])\n"
     ]
    }
   ],
   "source": [
    "# Refered from class notes \n",
    "from sklearn.pipeline import Pipeline\n",
    "from sklearn.preprocessing import StandardScaler\n",
    "from sklearn.compose import ColumnTransformer\n",
    "\n",
    "num_attributes=[\"Marketing expense\",\"Production expense\",\"Multiplex coverage\",\"Budget\",\"Movie_length\",\"Lead_ Actor_Rating\",\"Lead_Actress_rating\",\"Director_rating\",\"Producer_rating\",\"Critic_rating\",\"Trailer_views\",\"Time_taken\",\"Twitter_hastags\",\"Avg_age_actors\",\"Num_multiplex\"]\n",
    "cat_attributes=[\"Genre\",\"3D_available\"]\n",
    "\n",
    "num_pipeline = Pipeline([('standardize_num', StandardScaler())])\n",
    "cat_pipeline = Pipeline([('categoricals', OrdinalEncoder())])\n",
    "\n",
    "processing_pipeline = ColumnTransformer(transformers=[('proc_numeric', num_pipeline, num_attributes),\n",
    "                                                      ('categories', cat_pipeline, cat_attributes)])\n",
    "\n",
    "print(processing_pipeline)"
   ]
  },
  {
   "cell_type": "code",
   "execution_count": 9,
   "id": "6e4e3c13",
   "metadata": {},
   "outputs": [
    {
     "data": {
      "text/plain": [
       "Pipeline(steps=[('data_processing',\n",
       "                 ColumnTransformer(transformers=[('proc_numeric',\n",
       "                                                  Pipeline(steps=[('standardize_num',\n",
       "                                                                   StandardScaler())]),\n",
       "                                                  ['Marketing expense',\n",
       "                                                   'Production expense',\n",
       "                                                   'Multiplex coverage',\n",
       "                                                   'Budget', 'Movie_length',\n",
       "                                                   'Lead_ Actor_Rating',\n",
       "                                                   'Lead_Actress_rating',\n",
       "                                                   'Director_rating',\n",
       "                                                   'Producer_rating',\n",
       "                                                   'Critic_rating',\n",
       "                                                   'Trailer_views',\n",
       "                                                   'Time_taken',\n",
       "                                                   'Twitter_hastags',\n",
       "                                                   'Avg_age_actors',\n",
       "                                                   'Num_multiplex']),\n",
       "                                                 ('categories',\n",
       "                                                  Pipeline(steps=[('categoricals',\n",
       "                                                                   OrdinalEncoder())]),\n",
       "                                                  ['Genre', '3D_available'])])),\n",
       "                ('lm', LinearRegression())])"
      ]
     },
     "execution_count": 9,
     "metadata": {},
     "output_type": "execute_result"
    }
   ],
   "source": [
    "modeling_pipeline = Pipeline([('data_processing', processing_pipeline), ('lm', LinearRegression())])\n",
    "modeling_pipeline.fit(X_train, y_train)"
   ]
  },
  {
   "cell_type": "code",
   "execution_count": 10,
   "id": "f80ea188",
   "metadata": {},
   "outputs": [
    {
     "data": {
      "text/plain": [
       "0.7273919756333789"
      ]
     },
     "execution_count": 10,
     "metadata": {},
     "output_type": "execute_result"
    }
   ],
   "source": [
    "#Training data accuracy score \n",
    "modeling_pipeline.score(X_train, y_train)"
   ]
  },
  {
   "cell_type": "code",
   "execution_count": 11,
   "id": "adeaf98e",
   "metadata": {},
   "outputs": [
    {
     "name": "stdout",
     "output_type": "stream",
     "text": [
      "                                 OLS Regression Results                                \n",
      "=======================================================================================\n",
      "Dep. Variable:             Collection   R-squared (uncentered):                   0.941\n",
      "Model:                            OLS   Adj. R-squared (uncentered):              0.931\n",
      "Method:                 Least Squares   F-statistic:                              92.35\n",
      "Date:                Mon, 11 Oct 2021   Prob (F-statistic):                    1.01e-46\n",
      "Time:                        23:19:28   Log-Likelihood:                         -1100.0\n",
      "No. Observations:                 102   AIC:                                      2230.\n",
      "Df Residuals:                      87   BIC:                                      2269.\n",
      "Df Model:                          15                                                  \n",
      "Covariance Type:            nonrobust                                                  \n",
      "=======================================================================================\n",
      "                          coef    std err          t      P>|t|      [0.025      0.975]\n",
      "---------------------------------------------------------------------------------------\n",
      "Marketing expense      -9.6035      7.297     -1.316      0.192     -24.107       4.900\n",
      "Production expense    -54.0955    187.781     -0.288      0.774    -427.330     319.139\n",
      "Multiplex coverage  -4.567e+04   2.01e+04     -2.270      0.026   -8.56e+04   -5688.629\n",
      "Budget                  1.9686      0.405      4.863      0.000       1.164       2.773\n",
      "Movie_length          -73.8284     72.343     -1.021      0.310    -217.617      69.961\n",
      "Lead_ Actor_Rating  -1.678e+04   2.22e+04     -0.756      0.451   -6.09e+04    2.73e+04\n",
      "Lead_Actress_rating -1.302e+04   2.29e+04     -0.569      0.571   -5.85e+04    3.24e+04\n",
      "Director_rating      4.683e+04   2.15e+04      2.183      0.032    4184.323    8.95e+04\n",
      "Producer_rating     -1.441e+04   1.21e+04     -1.189      0.238   -3.85e+04    9689.671\n",
      "Critic_rating       -2384.8312   1863.270     -1.280      0.204   -6088.282    1318.619\n",
      "Trailer_views           0.0918      0.031      2.940      0.004       0.030       0.154\n",
      "3D_available        -7.594e-12   5.44e-12     -1.396      0.166   -1.84e-11    3.22e-12\n",
      "Time_taken             21.1493     36.260      0.583      0.561     -50.922      93.221\n",
      "Twitter_hastags       -13.0261     37.849     -0.344      0.732     -88.256      62.204\n",
      "Genre               -1.254e-11   6.56e-12     -1.911      0.059   -2.56e-11       5e-13\n",
      "Avg_age_actors       -134.6430     97.880     -1.376      0.172    -329.191      59.905\n",
      "Num_multiplex         -38.7307     23.780     -1.629      0.107     -85.996       8.535\n",
      "==============================================================================\n",
      "Omnibus:                       60.808   Durbin-Watson:                   2.021\n",
      "Prob(Omnibus):                  0.000   Jarque-Bera (JB):              260.411\n",
      "Skew:                           2.008   Prob(JB):                     2.83e-57\n",
      "Kurtosis:                       9.718   Cond. No.                     1.29e+24\n",
      "==============================================================================\n",
      "\n",
      "Notes:\n",
      "[1] R² is computed without centering (uncentered) since the model does not contain a constant.\n",
      "[2] Standard Errors assume that the covariance matrix of the errors is correctly specified.\n",
      "[3] The smallest eigenvalue is 1.3e-35. This might indicate that there are\n",
      "strong multicollinearity problems or that the design matrix is singular.\n"
     ]
    }
   ],
   "source": [
    "# Applying OLS regression for testing dataset\n",
    "olsModel = smf.OLS(y_test, X_test).fit()\n",
    "print(olsModel.summary())"
   ]
  },
  {
   "cell_type": "code",
   "execution_count": 12,
   "id": "6aa434ba",
   "metadata": {},
   "outputs": [
    {
     "data": {
      "text/plain": [
       "0.5036705349903292"
      ]
     },
     "execution_count": 12,
     "metadata": {},
     "output_type": "execute_result"
    }
   ],
   "source": [
    "#Accuracy score for test dataset\n",
    "modeling_pipeline.score(X_test, y_test)"
   ]
  },
  {
   "cell_type": "code",
   "execution_count": 13,
   "id": "0497c281",
   "metadata": {},
   "outputs": [
    {
     "data": {
      "image/png": "[encoded data removed]",
      "text/plain": [
       "<Figure size 432x288 with 1 Axes>"
      ]
     },
     "metadata": {
      "needs_background": "light"
     },
     "output_type": "display_data"
    }
   ],
   "source": [
    "yhat_test = modeling_pipeline.predict(X_test)\n",
    "plt.plot(y_test, yhat_test, 'bo', alpha=0.5)\n",
    "plt.xlabel('Actual')\n",
    "plt.ylabel('Predicted')\n",
    "plt.title('Actuals vs. Predictions')\n",
    "plt.show()"
   ]
  },
  {
   "cell_type": "code",
   "execution_count": 14,
   "id": "93ccad9a",
   "metadata": {},
   "outputs": [
    {
     "data": {
      "image/png": "[encoded data removed]",
      "text/plain": [
       "<Figure size 432x288 with 1 Axes>"
      ]
     },
     "metadata": {
      "needs_background": "light"
     },
     "output_type": "display_data"
    }
   ],
   "source": [
    "yhat_residuals = y_test - yhat_test\n",
    "plt.plot(yhat_test, yhat_residuals, 'bo', alpha=0.25)\n",
    "plt.hlines(0,0,160000)\n",
    "plt.xlim(0,160000)\n",
    "plt.title('Predictions vs. Residuals')\n",
    "plt.xlabel('Predicted')\n",
    "plt.ylabel('Residual')\n",
    "plt.show()"
   ]
  },
  {
   "cell_type": "markdown",
   "id": "e697dba3",
   "metadata": {},
   "source": [
    "#### Observations  \n",
    "This is an average model, and it's evident that both the training and test datasets have lower accuracy.  \n",
    "Error rate is also high\n"
   ]
  },
  {
   "cell_type": "markdown",
   "id": "46ddda4e",
   "metadata": {},
   "source": [
    "### Ridge Regression"
   ]
  },
  {
   "cell_type": "code",
   "execution_count": 15,
   "id": "7daeaae8",
   "metadata": {},
   "outputs": [
    {
     "data": {
      "text/plain": [
       "Pipeline(steps=[('data_processing',\n",
       "                 ColumnTransformer(transformers=[('proc_numeric',\n",
       "                                                  Pipeline(steps=[('standardize_num',\n",
       "                                                                   StandardScaler())]),\n",
       "                                                  ['Marketing expense',\n",
       "                                                   'Production expense',\n",
       "                                                   'Multiplex coverage',\n",
       "                                                   'Budget', 'Movie_length',\n",
       "                                                   'Lead_ Actor_Rating',\n",
       "                                                   'Lead_Actress_rating',\n",
       "                                                   'Director_rating',\n",
       "                                                   'Producer_rating',\n",
       "                                                   'Critic_rating',\n",
       "                                                   'Trailer_views',\n",
       "                                                   'Time_taken',\n",
       "                                                   'Twitter_hastags',\n",
       "                                                   'Avg_age_actors',\n",
       "                                                   'Num_multiplex']),\n",
       "                                                 ('categories',\n",
       "                                                  Pipeline(steps=[('categoricals',\n",
       "                                                                   OrdinalEncoder())]),\n",
       "                                                  ['Genre', '3D_available'])])),\n",
       "                ('ridge', Ridge(alpha=1))])"
      ]
     },
     "execution_count": 15,
     "metadata": {},
     "output_type": "execute_result"
    }
   ],
   "source": [
    "from sklearn.linear_model import Ridge\n",
    "\n",
    "modeling_pipeline_ridge = Pipeline([('data_processing', processing_pipeline), ('ridge', Ridge(alpha=1))])\n",
    "modeling_pipeline_ridge.fit(X_train, y_train)"
   ]
  },
  {
   "cell_type": "code",
   "execution_count": 16,
   "id": "3cf1b0b0",
   "metadata": {},
   "outputs": [
    {
     "data": {
      "text/plain": [
       "0.7272550816506295"
      ]
     },
     "execution_count": 16,
     "metadata": {},
     "output_type": "execute_result"
    }
   ],
   "source": [
    "modeling_pipeline_ridge.score(X_train, y_train)"
   ]
  },
  {
   "cell_type": "code",
   "execution_count": 17,
   "id": "59dac93f",
   "metadata": {},
   "outputs": [
    {
     "data": {
      "text/plain": [
       "0.5032358151006799"
      ]
     },
     "execution_count": 17,
     "metadata": {},
     "output_type": "execute_result"
    }
   ],
   "source": [
    "modeling_pipeline_ridge.score(X_test, y_test)"
   ]
  },
  {
   "cell_type": "code",
   "execution_count": 18,
   "id": "34e70ebd",
   "metadata": {},
   "outputs": [
    {
     "data": {
      "text/plain": [
       "array([-2106.24759829, -2517.1649091 ,  3314.70959544,  6517.05319168,\n",
       "        -739.58963909,  1767.23868276, -2453.59727768,  1856.47394232,\n",
       "        3976.15661051,  3176.19457047,  7049.31569437,   678.16581836,\n",
       "         290.79467903,   658.03916609,   961.54780881,     0.        ,\n",
       "           0.        ])"
      ]
     },
     "execution_count": 18,
     "metadata": {},
     "output_type": "execute_result"
    }
   ],
   "source": [
    "modeling_pipeline_ridge['ridge'].coef_"
   ]
  },
  {
   "cell_type": "code",
   "execution_count": 19,
   "id": "91ba0da7",
   "metadata": {},
   "outputs": [],
   "source": [
    "from collections import defaultdict\n",
    "alpha_values=[0,1,5,10,20,50]\n",
    "ridge_results = defaultdict(dict)\n",
    "for alph in alpha_values:\n",
    "    modeling_pipeline_ridge = Pipeline([('data_processing', processing_pipeline), ('ridge', Ridge(alpha=alph))])\n",
    "    modeling_pipeline_ridge.fit(X_train, y_train)\n",
    "    ridge_results['coefficients'][alph] = modeling_pipeline_ridge['ridge'].coef_\n",
    "    ridge_results['training score'][alph] = modeling_pipeline_ridge.score(X_train, y_train)\n",
    "    ridge_results['test score'][alph] = modeling_pipeline_ridge.score(X_test, y_test)"
   ]
  },
  {
   "cell_type": "code",
   "execution_count": 20,
   "id": "b7a587b8",
   "metadata": {},
   "outputs": [
    {
     "name": "stdout",
     "output_type": "stream",
     "text": [
      "0.722622705367483\n",
      "0.722622705367483\n",
      "0.722622705367483\n",
      "0.722622705367483\n",
      "0.722622705367483\n",
      "0.722622705367483\n"
     ]
    }
   ],
   "source": [
    "for alph in alpha_values:\n",
    "    print(modeling_pipeline_ridge.score(X_train, y_train))"
   ]
  },
  {
   "cell_type": "code",
   "execution_count": 21,
   "id": "9a21aea5",
   "metadata": {},
   "outputs": [
    {
     "data": {
      "image/png": "[encoded data removed]",
      "text/plain": [
       "<Figure size 576x288 with 1 Axes>"
      ]
     },
     "metadata": {
      "needs_background": "light"
     },
     "output_type": "display_data"
    }
   ],
   "source": [
    "coefficients = pd.DataFrame.from_dict(ridge_results['coefficients'])\n",
    "coefficients = coefficients.reset_index()\n",
    "coefficients = coefficients.rename(columns={'index':'coefficient_nbr'})\n",
    "coefficients = coefficients.melt(id_vars='coefficient_nbr', var_name='alpha', value_name='coefficient')\n",
    "\n",
    "(\n",
    "coefficients.pivot_table(index='alpha', columns='coefficient_nbr', values='coefficient')\n",
    "    .plot(figsize=(8,4),legend=False)\n",
    ")\n",
    "\n",
    "plt.title('Ridge Coefficients')\n",
    "plt.xlabel('Alpha (Regularization Amount)')\n",
    "plt.ylabel('Coefficient')\n",
    "plt.ylim((-10, 10))\n",
    "plt.show()"
   ]
  },
  {
   "cell_type": "code",
   "execution_count": 22,
   "id": "e6db8880",
   "metadata": {},
   "outputs": [
    {
     "data": {
      "image/png": "[encoded data removed]",
      "text/plain": [
       "<Figure size 432x288 with 1 Axes>"
      ]
     },
     "metadata": {
      "needs_background": "light"
     },
     "output_type": "display_data"
    }
   ],
   "source": [
    "ridge_training_r2 = pd.Series(ridge_results['training score'])\n",
    "ridge_test_r2 = pd.Series(ridge_results['test score'])\n",
    "\n",
    "ridge_training_r2.plot()\n",
    "ridge_test_r2.plot()\n",
    "plt.title('$R^2$ for Ridge Regression')\n",
    "plt.legend(['Training','Test'])\n",
    "plt.xlabel('Alpha (Regularization Level)')\n",
    "plt.ylabel('Percent of Variance Explained')\n",
    "plt.ylim(0.4, 1)\n",
    "plt.show()"
   ]
  },
  {
   "cell_type": "code",
   "execution_count": 23,
   "id": "a033fcd0",
   "metadata": {},
   "outputs": [
    {
     "name": "stderr",
     "output_type": "stream",
     "text": [
      "C:\\Users\\DELL\\anaconda3\\envs\\GAN\\lib\\site-packages\\sklearn\\pipeline.py:346: UserWarning: With alpha=0, this algorithm does not converge well. You are advised to use the LinearRegression estimator\n",
      "  self._final_estimator.fit(Xt, y, **fit_params_last_step)\n",
      "C:\\Users\\DELL\\anaconda3\\envs\\GAN\\lib\\site-packages\\sklearn\\linear_model\\_coordinate_descent.py:530: UserWarning: Coordinate descent with no regularization may lead to unexpected results and is discouraged.\n",
      "  model = cd_fast.enet_coordinate_descent(\n",
      "C:\\Users\\DELL\\anaconda3\\envs\\GAN\\lib\\site-packages\\sklearn\\linear_model\\_coordinate_descent.py:530: ConvergenceWarning: Objective did not converge. You might want to increase the number of iterations. Duality gap: 18734425081.330738, tolerance: 13744529.693069309\n",
      "  model = cd_fast.enet_coordinate_descent(\n",
      "C:\\Users\\DELL\\anaconda3\\envs\\GAN\\lib\\site-packages\\sklearn\\linear_model\\_coordinate_descent.py:530: ConvergenceWarning: Objective did not converge. You might want to increase the number of iterations. Duality gap: 5761644702.277359, tolerance: 13744529.693069309\n",
      "  model = cd_fast.enet_coordinate_descent(\n",
      "C:\\Users\\DELL\\anaconda3\\envs\\GAN\\lib\\site-packages\\sklearn\\linear_model\\_coordinate_descent.py:530: ConvergenceWarning: Objective did not converge. You might want to increase the number of iterations. Duality gap: 2416612093.943161, tolerance: 13744529.693069309\n",
      "  model = cd_fast.enet_coordinate_descent(\n",
      "C:\\Users\\DELL\\anaconda3\\envs\\GAN\\lib\\site-packages\\sklearn\\linear_model\\_coordinate_descent.py:530: ConvergenceWarning: Objective did not converge. You might want to increase the number of iterations. Duality gap: 319008598.0565758, tolerance: 13744529.693069309\n",
      "  model = cd_fast.enet_coordinate_descent(\n"
     ]
    }
   ],
   "source": [
    "from sklearn.linear_model import Lasso\n",
    "\n",
    "alphas = [0, 1, 2, 5, 10, 50]\n",
    "\n",
    "lasso_results = defaultdict(dict)\n",
    "\n",
    "for i in alphas:\n",
    "    modeling_pipeline_lasso = Pipeline([('data_processing', processing_pipeline), ('lasso', Lasso(alpha=i))])\n",
    "    modeling_pipeline_lasso.fit(X_train, y_train)\n",
    "    lasso_results['coefficients'][i] = modeling_pipeline_lasso['lasso'].coef_\n",
    "    lasso_results['training score'][i] = modeling_pipeline_lasso.score(X_train, y_train)\n",
    "    lasso_results['test score'][i] = modeling_pipeline_lasso.score(X_test, y_test)"
   ]
  },
  {
   "cell_type": "code",
   "execution_count": 24,
   "id": "e645be68",
   "metadata": {},
   "outputs": [
    {
     "data": {
      "image/png": "[encoded data removed]",
      "text/plain": [
       "<Figure size 576x288 with 1 Axes>"
      ]
     },
     "metadata": {
      "needs_background": "light"
     },
     "output_type": "display_data"
    }
   ],
   "source": [
    "coefficients = pd.DataFrame.from_dict(lasso_results['coefficients'])\n",
    "coefficients = coefficients.reset_index()\n",
    "coefficients = coefficients.rename(columns={'index':'coefficient_nbr'})\n",
    "coefficients = coefficients.melt(id_vars='coefficient_nbr', var_name='alpha', value_name='coefficient')\n",
    "\n",
    "coefficients.pivot_table(index='alpha', columns='coefficient_nbr', values='coefficient').plot(figsize=(8,4))\n",
    "plt.title('Lasso Coefficients', loc='left')\n",
    "plt.xlabel('Alpha (Regularization Amount)')\n",
    "plt.ylabel('Coefficient')\n",
    "plt.legend('')\n",
    "plt.show()\n"
   ]
  },
  {
   "cell_type": "code",
   "execution_count": 25,
   "id": "20625f2e",
   "metadata": {},
   "outputs": [
    {
     "data": {
      "image/png": "[encoded data removed]",
      "text/plain": [
       "<Figure size 432x288 with 1 Axes>"
      ]
     },
     "metadata": {
      "needs_background": "light"
     },
     "output_type": "display_data"
    }
   ],
   "source": [
    "lasso_training_r2 = pd.Series(lasso_results['training score'])\n",
    "lasso_test_r2 = pd.Series(lasso_results['test score'])\n",
    "\n",
    "lasso_training_r2.plot()\n",
    "lasso_test_r2.plot()\n",
    "plt.title('$R^2$ for Lasso Regression')\n",
    "plt.legend(['Training','Test'])\n",
    "plt.xlabel('Alpha (Regularization Level)')\n",
    "plt.ylabel('Percent of Variance Explained')\n",
    "plt.show()"
   ]
  },
  {
   "cell_type": "code",
   "execution_count": 27,
   "id": "872a48fc",
   "metadata": {},
   "outputs": [
    {
     "data": {
      "text/plain": [
       "0.7267649719956953"
      ]
     },
     "execution_count": 27,
     "metadata": {},
     "output_type": "execute_result"
    }
   ],
   "source": [
    "modeling_pipeline_lasso.score(X_train, y_train)"
   ]
  },
  {
   "cell_type": "code",
   "execution_count": 26,
   "id": "855dc12f",
   "metadata": {},
   "outputs": [
    {
     "data": {
      "text/plain": [
       "0.5036026785552092"
      ]
     },
     "execution_count": 26,
     "metadata": {},
     "output_type": "execute_result"
    }
   ],
   "source": [
    "modeling_pipeline_lasso.score(X_test, y_test)"
   ]
  },
  {
   "cell_type": "markdown",
   "id": "c77578c5",
   "metadata": {},
   "source": [
    "This model has 72% accuracy for train dataset and 50% accuracy for test dataset"
   ]
  }
 ],
 "metadata": {
  "kernelspec": {
   "display_name": "Python 3",
   "language": "python",
   "name": "python3"
  },
  "language_info": {
   "codemirror_mode": {
    "name": "ipython",
    "version": 3
   },
   "file_extension": ".py",
   "mimetype": "text/x-python",
   "name": "python",
   "nbconvert_exporter": "python",
   "pygments_lexer": "ipython3",
   "version": "3.8.0"
  }
 },
 "nbformat": 4,
 "nbformat_minor": 5
}
