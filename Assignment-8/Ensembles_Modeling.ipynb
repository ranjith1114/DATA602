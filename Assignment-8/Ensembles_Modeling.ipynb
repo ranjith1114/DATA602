{
 "cells": [
  {
   "cell_type": "markdown",
   "id": "1d2a8fd5",
   "metadata": {},
   "source": [
    "# Ensembles\n",
    "- Analyze the data and create a processing pipeline. We are interested if we can predict whether a flight gets delayed or not (arr_delay). \n",
    "- Fit a logistic regression, decision tree, and SVM using grid search. Discuss the performance of each model. \n",
    "- Fit an ensemble using the three above models. Does this improvement performance? \n",
    "- Fit a model using AdaBoost. Does this improve performance? "
   ]
  },
  {
   "cell_type": "markdown",
   "id": "0827785c",
   "metadata": {},
   "source": [
    "## Import Packages"
   ]
  },
  {
   "cell_type": "code",
   "execution_count": 1,
   "id": "5c16c4a7",
   "metadata": {},
   "outputs": [],
   "source": [
    "# importing the packages.\n",
    "import pandas as pd\n",
    "import numpy as np\n",
    "from sklearn.model_selection import train_test_split\n",
    "from sklearn.model_selection import cross_val_score,GridSearchCV\n",
    "from sklearn.model_selection import cross_validate\n",
    "from sklearn.linear_model import LogisticRegression\n",
    "from sklearn.tree import DecisionTreeClassifier\n",
    "from sklearn.svm import SVC\n",
    "from sklearn.pipeline import Pipeline\n",
    "from sklearn.impute import SimpleImputer\n",
    "from sklearn.compose import ColumnTransformer\n",
    "from sklearn.preprocessing import StandardScaler\n",
    "from sklearn.preprocessing import OneHotEncoder"
   ]
  },
  {
   "cell_type": "markdown",
   "id": "b7408be1",
   "metadata": {},
   "source": [
    "    \n",
    "### Reading Data"
   ]
  },
  {
   "cell_type": "code",
   "execution_count": 2,
   "id": "f03114d4",
   "metadata": {},
   "outputs": [],
   "source": [
    "# Reading the csv file.\n",
    "data = pd.read_csv(\"data/flight-data.csv\")"
   ]
  },
  {
   "cell_type": "code",
   "execution_count": 3,
   "id": "ff2f5db1",
   "metadata": {},
   "outputs": [
    {
     "data": {
      "text/html": [
       "<div>\n",
       "<style scoped>\n",
       "    .dataframe tbody tr th:only-of-type {\n",
       "        vertical-align: middle;\n",
       "    }\n",
       "\n",
       "    .dataframe tbody tr th {\n",
       "        vertical-align: top;\n",
       "    }\n",
       "\n",
       "    .dataframe thead th {\n",
       "        text-align: right;\n",
       "    }\n",
       "</style>\n",
       "<table border=\"1\" class=\"dataframe\">\n",
       "  <thead>\n",
       "    <tr style=\"text-align: right;\">\n",
       "      <th></th>\n",
       "      <th>carrier</th>\n",
       "      <th>flight</th>\n",
       "      <th>tailnum</th>\n",
       "      <th>origin</th>\n",
       "      <th>dest</th>\n",
       "      <th>air_time</th>\n",
       "      <th>distance</th>\n",
       "      <th>hour</th>\n",
       "      <th>minute</th>\n",
       "      <th>temp</th>\n",
       "      <th>...</th>\n",
       "      <th>precip</th>\n",
       "      <th>pressure</th>\n",
       "      <th>visib</th>\n",
       "      <th>type</th>\n",
       "      <th>manufacturer</th>\n",
       "      <th>model</th>\n",
       "      <th>engines</th>\n",
       "      <th>seats</th>\n",
       "      <th>engine</th>\n",
       "      <th>arr_delay</th>\n",
       "    </tr>\n",
       "  </thead>\n",
       "  <tbody>\n",
       "    <tr>\n",
       "      <th>0</th>\n",
       "      <td>B6</td>\n",
       "      <td>1201</td>\n",
       "      <td>N643JB</td>\n",
       "      <td>JFK</td>\n",
       "      <td>FLL</td>\n",
       "      <td>135.0</td>\n",
       "      <td>1069</td>\n",
       "      <td>21</td>\n",
       "      <td>50</td>\n",
       "      <td>73.04</td>\n",
       "      <td>...</td>\n",
       "      <td>0.0</td>\n",
       "      <td>1019.4</td>\n",
       "      <td>10.0</td>\n",
       "      <td>Fixed wing multi engine</td>\n",
       "      <td>AIRBUS</td>\n",
       "      <td>A320-232</td>\n",
       "      <td>2.0</td>\n",
       "      <td>200.0</td>\n",
       "      <td>Turbo-fan</td>\n",
       "      <td>1.0</td>\n",
       "    </tr>\n",
       "    <tr>\n",
       "      <th>1</th>\n",
       "      <td>DL</td>\n",
       "      <td>1773</td>\n",
       "      <td>N3743H</td>\n",
       "      <td>JFK</td>\n",
       "      <td>LAS</td>\n",
       "      <td>287.0</td>\n",
       "      <td>2248</td>\n",
       "      <td>15</td>\n",
       "      <td>35</td>\n",
       "      <td>71.06</td>\n",
       "      <td>...</td>\n",
       "      <td>0.0</td>\n",
       "      <td>1020.4</td>\n",
       "      <td>10.0</td>\n",
       "      <td>Fixed wing multi engine</td>\n",
       "      <td>BOEING</td>\n",
       "      <td>737-832</td>\n",
       "      <td>2.0</td>\n",
       "      <td>189.0</td>\n",
       "      <td>Turbo-jet</td>\n",
       "      <td>0.0</td>\n",
       "    </tr>\n",
       "    <tr>\n",
       "      <th>2</th>\n",
       "      <td>EV</td>\n",
       "      <td>4572</td>\n",
       "      <td>N11107</td>\n",
       "      <td>EWR</td>\n",
       "      <td>GSP</td>\n",
       "      <td>84.0</td>\n",
       "      <td>594</td>\n",
       "      <td>15</td>\n",
       "      <td>9</td>\n",
       "      <td>78.80</td>\n",
       "      <td>...</td>\n",
       "      <td>0.0</td>\n",
       "      <td>NaN</td>\n",
       "      <td>5.0</td>\n",
       "      <td>Fixed wing multi engine</td>\n",
       "      <td>EMBRAER</td>\n",
       "      <td>EMB-145XR</td>\n",
       "      <td>2.0</td>\n",
       "      <td>55.0</td>\n",
       "      <td>Turbo-fan</td>\n",
       "      <td>1.0</td>\n",
       "    </tr>\n",
       "    <tr>\n",
       "      <th>3</th>\n",
       "      <td>B6</td>\n",
       "      <td>179</td>\n",
       "      <td>N526JB</td>\n",
       "      <td>JFK</td>\n",
       "      <td>PHX</td>\n",
       "      <td>305.0</td>\n",
       "      <td>2153</td>\n",
       "      <td>17</td>\n",
       "      <td>35</td>\n",
       "      <td>44.06</td>\n",
       "      <td>...</td>\n",
       "      <td>0.0</td>\n",
       "      <td>1009.2</td>\n",
       "      <td>10.0</td>\n",
       "      <td>NaN</td>\n",
       "      <td>NaN</td>\n",
       "      <td>NaN</td>\n",
       "      <td>NaN</td>\n",
       "      <td>NaN</td>\n",
       "      <td>NaN</td>\n",
       "      <td>1.0</td>\n",
       "    </tr>\n",
       "    <tr>\n",
       "      <th>4</th>\n",
       "      <td>US</td>\n",
       "      <td>1733</td>\n",
       "      <td>N162UW</td>\n",
       "      <td>LGA</td>\n",
       "      <td>CLT</td>\n",
       "      <td>78.0</td>\n",
       "      <td>544</td>\n",
       "      <td>7</td>\n",
       "      <td>53</td>\n",
       "      <td>69.98</td>\n",
       "      <td>...</td>\n",
       "      <td>0.0</td>\n",
       "      <td>1021.3</td>\n",
       "      <td>10.0</td>\n",
       "      <td>Fixed wing multi engine</td>\n",
       "      <td>AIRBUS INDUSTRIE</td>\n",
       "      <td>A321-211</td>\n",
       "      <td>2.0</td>\n",
       "      <td>199.0</td>\n",
       "      <td>Turbo-jet</td>\n",
       "      <td>0.0</td>\n",
       "    </tr>\n",
       "  </tbody>\n",
       "</table>\n",
       "<p>5 rows × 25 columns</p>\n",
       "</div>"
      ],
      "text/plain": [
       "  carrier  flight tailnum origin dest  air_time  distance  hour  minute  \\\n",
       "0      B6    1201  N643JB    JFK  FLL     135.0      1069    21      50   \n",
       "1      DL    1773  N3743H    JFK  LAS     287.0      2248    15      35   \n",
       "2      EV    4572  N11107    EWR  GSP      84.0       594    15       9   \n",
       "3      B6     179  N526JB    JFK  PHX     305.0      2153    17      35   \n",
       "4      US    1733  N162UW    LGA  CLT      78.0       544     7      53   \n",
       "\n",
       "    temp  ...  precip  pressure  visib                     type  \\\n",
       "0  73.04  ...     0.0    1019.4   10.0  Fixed wing multi engine   \n",
       "1  71.06  ...     0.0    1020.4   10.0  Fixed wing multi engine   \n",
       "2  78.80  ...     0.0       NaN    5.0  Fixed wing multi engine   \n",
       "3  44.06  ...     0.0    1009.2   10.0                      NaN   \n",
       "4  69.98  ...     0.0    1021.3   10.0  Fixed wing multi engine   \n",
       "\n",
       "       manufacturer      model  engines  seats     engine arr_delay  \n",
       "0            AIRBUS   A320-232      2.0  200.0  Turbo-fan       1.0  \n",
       "1            BOEING    737-832      2.0  189.0  Turbo-jet       0.0  \n",
       "2           EMBRAER  EMB-145XR      2.0   55.0  Turbo-fan       1.0  \n",
       "3               NaN        NaN      NaN    NaN        NaN       1.0  \n",
       "4  AIRBUS INDUSTRIE   A321-211      2.0  199.0  Turbo-jet       0.0  \n",
       "\n",
       "[5 rows x 25 columns]"
      ]
     },
     "execution_count": 3,
     "metadata": {},
     "output_type": "execute_result"
    }
   ],
   "source": [
    "data.head()"
   ]
  },
  {
   "cell_type": "markdown",
   "id": "3c1e89bc",
   "metadata": {},
   "source": [
    "### Exploratory Data Analysis."
   ]
  },
  {
   "cell_type": "code",
   "execution_count": 4,
   "id": "576d91e5",
   "metadata": {},
   "outputs": [
    {
     "data": {
      "text/plain": [
       "Index(['carrier', 'flight', 'tailnum', 'origin', 'dest', 'air_time',\n",
       "       'distance', 'hour', 'minute', 'temp', 'dewp', 'humid', 'wind_dir',\n",
       "       'wind_speed', 'wind_gust', 'precip', 'pressure', 'visib', 'type',\n",
       "       'manufacturer', 'model', 'engines', 'seats', 'engine', 'arr_delay'],\n",
       "      dtype='object')"
      ]
     },
     "execution_count": 4,
     "metadata": {},
     "output_type": "execute_result"
    }
   ],
   "source": [
    "data.columns"
   ]
  },
  {
   "cell_type": "code",
   "execution_count": 5,
   "id": "41d67fc5",
   "metadata": {},
   "outputs": [
    {
     "data": {
      "text/plain": [
       "carrier            0\n",
       "flight             0\n",
       "tailnum           74\n",
       "origin             0\n",
       "dest               0\n",
       "air_time         284\n",
       "distance           0\n",
       "hour               0\n",
       "minute             0\n",
       "temp              48\n",
       "dewp              48\n",
       "humid             48\n",
       "wind_dir         269\n",
       "wind_speed        49\n",
       "wind_gust       7613\n",
       "precip            46\n",
       "pressure        1192\n",
       "visib             46\n",
       "type            1501\n",
       "manufacturer    1501\n",
       "model           1501\n",
       "engines         1501\n",
       "seats           1501\n",
       "engine          1501\n",
       "arr_delay        284\n",
       "dtype: int64"
      ]
     },
     "execution_count": 5,
     "metadata": {},
     "output_type": "execute_result"
    }
   ],
   "source": [
    "#Checking the null count.\n",
    "data.isnull().sum()"
   ]
  },
  {
   "cell_type": "code",
   "execution_count": 6,
   "id": "33f2052a",
   "metadata": {},
   "outputs": [
    {
     "name": "stdout",
     "output_type": "stream",
     "text": [
      "<class 'pandas.core.frame.DataFrame'>\n",
      "RangeIndex: 10000 entries, 0 to 9999\n",
      "Data columns (total 25 columns):\n",
      " #   Column        Non-Null Count  Dtype  \n",
      "---  ------        --------------  -----  \n",
      " 0   carrier       10000 non-null  object \n",
      " 1   flight        10000 non-null  int64  \n",
      " 2   tailnum       9926 non-null   object \n",
      " 3   origin        10000 non-null  object \n",
      " 4   dest          10000 non-null  object \n",
      " 5   air_time      9716 non-null   float64\n",
      " 6   distance      10000 non-null  int64  \n",
      " 7   hour          10000 non-null  int64  \n",
      " 8   minute        10000 non-null  int64  \n",
      " 9   temp          9952 non-null   float64\n",
      " 10  dewp          9952 non-null   float64\n",
      " 11  humid         9952 non-null   float64\n",
      " 12  wind_dir      9731 non-null   float64\n",
      " 13  wind_speed    9951 non-null   float64\n",
      " 14  wind_gust     2387 non-null   float64\n",
      " 15  precip        9954 non-null   float64\n",
      " 16  pressure      8808 non-null   float64\n",
      " 17  visib         9954 non-null   float64\n",
      " 18  type          8499 non-null   object \n",
      " 19  manufacturer  8499 non-null   object \n",
      " 20  model         8499 non-null   object \n",
      " 21  engines       8499 non-null   float64\n",
      " 22  seats         8499 non-null   float64\n",
      " 23  engine        8499 non-null   object \n",
      " 24  arr_delay     9716 non-null   float64\n",
      "dtypes: float64(13), int64(4), object(8)\n",
      "memory usage: 1.9+ MB\n"
     ]
    }
   ],
   "source": [
    "# Printing the information\n",
    "data.info()"
   ]
  },
  {
   "cell_type": "code",
   "execution_count": 7,
   "id": "d70ee95a",
   "metadata": {},
   "outputs": [],
   "source": [
    "# Filling the null values.\n",
    "data['arr_delay'] = data['arr_delay'].fillna(0)"
   ]
  },
  {
   "cell_type": "code",
   "execution_count": 8,
   "id": "77268157",
   "metadata": {},
   "outputs": [
    {
     "name": "stdout",
     "output_type": "stream",
     "text": [
      "<class 'pandas.core.frame.DataFrame'>\n",
      "RangeIndex: 10000 entries, 0 to 9999\n",
      "Data columns (total 25 columns):\n",
      " #   Column        Non-Null Count  Dtype  \n",
      "---  ------        --------------  -----  \n",
      " 0   carrier       10000 non-null  object \n",
      " 1   flight        10000 non-null  int64  \n",
      " 2   tailnum       9926 non-null   object \n",
      " 3   origin        10000 non-null  object \n",
      " 4   dest          10000 non-null  object \n",
      " 5   air_time      9716 non-null   float64\n",
      " 6   distance      10000 non-null  int64  \n",
      " 7   hour          10000 non-null  int64  \n",
      " 8   minute        10000 non-null  int64  \n",
      " 9   temp          9952 non-null   float64\n",
      " 10  dewp          9952 non-null   float64\n",
      " 11  humid         9952 non-null   float64\n",
      " 12  wind_dir      9731 non-null   float64\n",
      " 13  wind_speed    9951 non-null   float64\n",
      " 14  wind_gust     2387 non-null   float64\n",
      " 15  precip        9954 non-null   float64\n",
      " 16  pressure      8808 non-null   float64\n",
      " 17  visib         9954 non-null   float64\n",
      " 18  type          8499 non-null   object \n",
      " 19  manufacturer  8499 non-null   object \n",
      " 20  model         8499 non-null   object \n",
      " 21  engines       8499 non-null   float64\n",
      " 22  seats         8499 non-null   float64\n",
      " 23  engine        8499 non-null   object \n",
      " 24  arr_delay     10000 non-null  float64\n",
      "dtypes: float64(13), int64(4), object(8)\n",
      "memory usage: 1.9+ MB\n"
     ]
    }
   ],
   "source": [
    "data.info()"
   ]
  },
  {
   "cell_type": "code",
   "execution_count": 9,
   "id": "94bd37f6",
   "metadata": {},
   "outputs": [
    {
     "data": {
      "text/plain": [
       "carrier            0\n",
       "flight             0\n",
       "tailnum           74\n",
       "origin             0\n",
       "dest               0\n",
       "air_time         284\n",
       "distance           0\n",
       "hour               0\n",
       "minute             0\n",
       "temp              48\n",
       "dewp              48\n",
       "humid             48\n",
       "wind_dir         269\n",
       "wind_speed        49\n",
       "wind_gust       7613\n",
       "precip            46\n",
       "pressure        1192\n",
       "visib             46\n",
       "type            1501\n",
       "manufacturer    1501\n",
       "model           1501\n",
       "engines         1501\n",
       "seats           1501\n",
       "engine          1501\n",
       "arr_delay          0\n",
       "dtype: int64"
      ]
     },
     "execution_count": 9,
     "metadata": {},
     "output_type": "execute_result"
    }
   ],
   "source": [
    "data.isna().sum()"
   ]
  },
  {
   "cell_type": "code",
   "execution_count": 10,
   "id": "dc5f37d2",
   "metadata": {},
   "outputs": [],
   "source": [
    "# Droping the column.\n",
    "x=data.drop([\"arr_delay\"],axis=1)\n",
    "y=data[\"arr_delay\"]"
   ]
  },
  {
   "cell_type": "markdown",
   "id": "b65a9381",
   "metadata": {},
   "source": [
    "### train_test split"
   ]
  },
  {
   "cell_type": "code",
   "execution_count": 11,
   "id": "0f4450b4",
   "metadata": {},
   "outputs": [],
   "source": [
    "# Splitting the train and test.\n",
    "x_train, x_test, y_train, y_test = train_test_split(x, y, test_size=0.3, random_state=1)"
   ]
  },
  {
   "cell_type": "markdown",
   "id": "d62b5813",
   "metadata": {},
   "source": [
    "### Defining pipeline"
   ]
  },
  {
   "cell_type": "code",
   "execution_count": 12,
   "id": "046c83cf",
   "metadata": {},
   "outputs": [
    {
     "name": "stdout",
     "output_type": "stream",
     "text": [
      "Pipeline created\n"
     ]
    }
   ],
   "source": [
    "# Droping the unwanted column.\n",
    "data.drop(columns=['tailnum','dest','manufacturer','model','carrier'],inplace=True)\n",
    "\n",
    "cats=['engine','origin','type']\n",
    "nums=['temp','dewp','humid','wind_dir','wind_speed','wind_gust','precip','pressure','visib','air_time']\n",
    "\n",
    "# Building the pipeline.\n",
    "num_pipe = Pipeline([('impute_missing', SimpleImputer(missing_values = np.nan,strategy='mean')),\n",
    "                           ('standardize_num', StandardScaler())\n",
    "                        ])\n",
    "\n",
    "cat_pipe = Pipeline([('impute_missing', SimpleImputer(missing_values = np.nan ,strategy='most_frequent')),\n",
    "                          ('create_dummies', OneHotEncoder(handle_unknown='ignore',sparse=False))])\n",
    "\n",
    "\n",
    "processing_pipeline = ColumnTransformer(transformers=[('proc_numeric', num_pipe, nums),\n",
    "                                                      ('create_dummies', cat_pipe, cats)\n",
    "                                                     ])\n",
    "print(\"Pipeline created\")"
   ]
  },
  {
   "cell_type": "markdown",
   "id": "fa8c69cd",
   "metadata": {},
   "source": [
    "### Using LogisticRegression, DecisionTreeClassifier, SVC."
   ]
  },
  {
   "cell_type": "code",
   "execution_count": null,
   "id": "b4dee607",
   "metadata": {},
   "outputs": [
    {
     "name": "stdout",
     "output_type": "stream",
     "text": [
      "ROC AUC 0.58 (+/- 0.02) [Logistic Regression]\n",
      "ROC AUC 0.58 (+/- 0.02) [Decision Tree]\n"
     ]
    }
   ],
   "source": [
    "pipe1 = Pipeline([('processing_pipeline', processing_pipeline),\n",
    "               ('LR', LogisticRegression(C=0.1, solver='lbfgs', max_iter=500, penalty='l2'))])\n",
    "\n",
    "pipe2 = Pipeline([('processing_pipeline', processing_pipeline),\n",
    "               ('DT', DecisionTreeClassifier(max_depth=2, criterion='entropy'))])\n",
    "\n",
    "pipe3 = Pipeline([('processing_pipeline', processing_pipeline),\n",
    "               ('SVC', SVC(kernel='rbf', C=1, probability=True))])\n",
    "\n",
    "labs = ['Logistic Regression', 'Decision Tree', 'SVM']\n",
    "clfs = [pipe1, pipe2, pipe3]\n",
    "clfs = zip(labs, clfs)\n",
    "\n",
    "for lab, clf in clfs:\n",
    "    scores = cross_val_score(estimator=clf, X=x_train, y=y_train, cv=10, scoring='roc_auc')\n",
    "    print(f'ROC AUC {scores.mean():.2f} (+/- {scores.std():.2f}) [{lab}]')"
   ]
  },
  {
   "cell_type": "markdown",
   "id": "f99d2bfd",
   "metadata": {},
   "source": [
    "- Here we can notice the ROC and AUC for three models."
   ]
  },
  {
   "cell_type": "markdown",
   "id": "302c5670",
   "metadata": {},
   "source": [
    "### Using VotingClassifier"
   ]
  },
  {
   "cell_type": "code",
   "execution_count": null,
   "id": "7abda5b4",
   "metadata": {},
   "outputs": [],
   "source": [
    "# Defining voting classifier.\n",
    "from sklearn.ensemble import VotingClassifier\n",
    "\n",
    "ems = [('lr', pipe1),('dt', pipe2),('svc', pipe3)]\n",
    "clf4 = VotingClassifier(estimators= ems, weights=None, voting='soft')\n",
    "\n",
    "scores = cross_val_score(estimator=clf4, X=x_train, y=y_train, cv=10, scoring='roc_auc')\n",
    "print(f'ROC AUC {scores.mean():.2f} (+/- {scores.std():.2f}) [Ensemble]')"
   ]
  },
  {
   "cell_type": "markdown",
   "id": "4726e1ff",
   "metadata": {},
   "source": [
    "- ROC and AUC for VotingClassifier.\n",
    "- Compared to above three VotingClassifier is little bit good."
   ]
  },
  {
   "cell_type": "markdown",
   "id": "5cd096bb",
   "metadata": {},
   "source": [
    "### Using GridSearchCV"
   ]
  },
  {
   "cell_type": "code",
   "execution_count": null,
   "id": "d81fb3d9",
   "metadata": {},
   "outputs": [],
   "source": [
    "# Defining the GridSearchCV.\n",
    "from sklearn.model_selection import GridSearchCV\n",
    "\n",
    "params = {'lr__LR__C':[0.001, 0.1, 1, 10], \n",
    "          'dt__DT__max_depth': [1, 2, 3, 5],\n",
    "          'svc__SVC__C':[0.001, 0.01,0.1, 1]\n",
    "         }\n",
    "\n",
    "gs = GridSearchCV(estimator=clf4, param_grid=params, scoring='roc_auc',refit=True, cv=10)\n",
    "gs = gs.fit(x_train, y_train)\n",
    "gs_score = gs.score(x_test, y_test)\n",
    "\n",
    "print(f'VotingClassifier Test ROC AUC: {gs_score:.2%}')"
   ]
  },
  {
   "cell_type": "code",
   "execution_count": null,
   "id": "00c50da5",
   "metadata": {},
   "outputs": [],
   "source": [
    "# Tesing the accuracy_score\n",
    "from sklearn.metrics import accuracy_score\n",
    "\n",
    "tree = p2\n",
    "tree = tree.fit(x_train, y_train)\n",
    "tree_train_predict = tree.predict(x_train)\n",
    "tree_test_predict = tree.predict(x_test)\n",
    "\n",
    "tree_train_score = accuracy_score(y_train, tree_train_predict)\n",
    "tree_test_score = accuracy_score(y_test, tree_test_predict)\n",
    "\n",
    "print(f'Tree Training Score: {tree_train_score:.2%}')\n",
    "print(f'Tree Test Score: {tree_test_score:.2%}')"
   ]
  },
  {
   "cell_type": "markdown",
   "id": "8119b232",
   "metadata": {},
   "source": [
    "- we can notice this model is overfitted."
   ]
  },
  {
   "cell_type": "markdown",
   "id": "7654ec9e",
   "metadata": {},
   "source": [
    "### Using AdaBoostClassifier."
   ]
  },
  {
   "cell_type": "code",
   "execution_count": null,
   "id": "a07e28d0",
   "metadata": {},
   "outputs": [],
   "source": [
    "# Checking with AdaBoosrClassifier.\n",
    "from sklearn.ensemble import AdaBoostClassifier\n",
    "\n",
    "p4 = Pipeline([('processing', processing_pipeline),\n",
    "        ( 'AdaBoost',AdaBoostClassifier())])\n",
    "ada =p4\n",
    "\n",
    "ada = ada.fit(X_train, y_train)\n",
    "ada_train_predict = ada.predict(X_train)\n",
    "ada_test_predict = ada.predict(X_test)\n",
    "\n",
    "ada_train_score = accuracy_score(y_train, ada_train_predict)\n",
    "ada_test_score = accuracy_score(y_test, ada_test_predict)\n",
    "\n",
    "print(f'AdaBoost Training Score: {ada_train_score:.2%}')\n",
    "print(f'AdaBoost Test Score: {ada_test_score:.2%}')"
   ]
  },
  {
   "cell_type": "markdown",
   "id": "2a5adca5",
   "metadata": {},
   "source": [
    "- Performance of AdaBoostClassifier is good compared to all other"
   ]
  },
  {
   "cell_type": "code",
   "execution_count": null,
   "id": "1d1783c2",
   "metadata": {},
   "outputs": [],
   "source": []
  }
 ],
 "metadata": {
  "kernelspec": {
   "display_name": "Python 3",
   "language": "python",
   "name": "python3"
  },
  "language_info": {
   "codemirror_mode": {
    "name": "ipython",
    "version": 3
   },
   "file_extension": ".py",
   "mimetype": "text/x-python",
   "name": "python",
   "nbconvert_exporter": "python",
   "pygments_lexer": "ipython3",
   "version": "3.8.0"
  }
 },
 "nbformat": 4,
 "nbformat_minor": 5
}
