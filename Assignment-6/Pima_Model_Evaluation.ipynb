{
 "cells": [
  {
   "cell_type": "markdown",
   "id": "04c823a7",
   "metadata": {},
   "source": [
    "# Model Evaluation and Grid Search for Pima data.\n"
   ]
  },
  {
   "cell_type": "markdown",
   "id": "8cda8949",
   "metadata": {},
   "source": [
    "### Tasks involved in this analysis.\n",
    "\n",
    "- Divding the data into train and test data.\n",
    "- Analysing the data by implementing pipeline to evaluate the model.\n",
    "- Involving the StandardScalar and Logestic Regression.\n",
    "- Checking with the confusion matrics under which this data falls (Accuracy, Precision,etc...).\n",
    "- Running a Logistic Regression model with grid search cross-validation using 10 folds. \n",
    "- Searching 5 different regularization strengths and 2 solvers.  \n",
    "- Checking which is best model and how it perform on the test set? "
   ]
  },
  {
   "cell_type": "code",
   "execution_count": 1,
   "id": "15d5faf2",
   "metadata": {},
   "outputs": [],
   "source": [
    "# importing the required libraries.\n",
    "import pandas as pd\n",
    "import numpy as np\n",
    "import matplotlib.pyplot as plt\n",
    "%matplotlib inline\n",
    "import seaborn as sns\n",
    "\n",
    "df = pd.read_csv(\"pima_indian_data.csv\")"
   ]
  },
  {
   "cell_type": "code",
   "execution_count": 2,
   "id": "1c540802",
   "metadata": {},
   "outputs": [
    {
     "data": {
      "text/html": [
       "<div>\n",
       "<style scoped>\n",
       "    .dataframe tbody tr th:only-of-type {\n",
       "        vertical-align: middle;\n",
       "    }\n",
       "\n",
       "    .dataframe tbody tr th {\n",
       "        vertical-align: top;\n",
       "    }\n",
       "\n",
       "    .dataframe thead th {\n",
       "        text-align: right;\n",
       "    }\n",
       "</style>\n",
       "<table border=\"1\" class=\"dataframe\">\n",
       "  <thead>\n",
       "    <tr style=\"text-align: right;\">\n",
       "      <th></th>\n",
       "      <th>Number  of times pregnant</th>\n",
       "      <th>Plasma glucose</th>\n",
       "      <th>Diastolic blood pressure</th>\n",
       "      <th>Triceps skinfold thickness</th>\n",
       "      <th>serum insulin</th>\n",
       "      <th>Body mass index</th>\n",
       "      <th>Diabetes pedigree function</th>\n",
       "      <th>Age</th>\n",
       "      <th>Class</th>\n",
       "    </tr>\n",
       "  </thead>\n",
       "  <tbody>\n",
       "    <tr>\n",
       "      <th>0</th>\n",
       "      <td>6</td>\n",
       "      <td>148</td>\n",
       "      <td>72</td>\n",
       "      <td>35</td>\n",
       "      <td>0</td>\n",
       "      <td>33.6</td>\n",
       "      <td>0.627</td>\n",
       "      <td>50</td>\n",
       "      <td>1</td>\n",
       "    </tr>\n",
       "    <tr>\n",
       "      <th>1</th>\n",
       "      <td>1</td>\n",
       "      <td>85</td>\n",
       "      <td>66</td>\n",
       "      <td>29</td>\n",
       "      <td>0</td>\n",
       "      <td>26.6</td>\n",
       "      <td>0.351</td>\n",
       "      <td>31</td>\n",
       "      <td>0</td>\n",
       "    </tr>\n",
       "    <tr>\n",
       "      <th>2</th>\n",
       "      <td>8</td>\n",
       "      <td>183</td>\n",
       "      <td>64</td>\n",
       "      <td>0</td>\n",
       "      <td>0</td>\n",
       "      <td>23.3</td>\n",
       "      <td>0.672</td>\n",
       "      <td>32</td>\n",
       "      <td>1</td>\n",
       "    </tr>\n",
       "    <tr>\n",
       "      <th>3</th>\n",
       "      <td>1</td>\n",
       "      <td>89</td>\n",
       "      <td>66</td>\n",
       "      <td>23</td>\n",
       "      <td>94</td>\n",
       "      <td>28.1</td>\n",
       "      <td>0.167</td>\n",
       "      <td>21</td>\n",
       "      <td>0</td>\n",
       "    </tr>\n",
       "    <tr>\n",
       "      <th>4</th>\n",
       "      <td>0</td>\n",
       "      <td>137</td>\n",
       "      <td>40</td>\n",
       "      <td>35</td>\n",
       "      <td>168</td>\n",
       "      <td>43.1</td>\n",
       "      <td>2.288</td>\n",
       "      <td>33</td>\n",
       "      <td>1</td>\n",
       "    </tr>\n",
       "  </tbody>\n",
       "</table>\n",
       "</div>"
      ],
      "text/plain": [
       "   Number  of times pregnant  Plasma glucose  Diastolic blood pressure  \\\n",
       "0                          6             148                        72   \n",
       "1                          1              85                        66   \n",
       "2                          8             183                        64   \n",
       "3                          1              89                        66   \n",
       "4                          0             137                        40   \n",
       "\n",
       "   Triceps skinfold thickness  serum insulin  Body mass index  \\\n",
       "0                          35              0             33.6   \n",
       "1                          29              0             26.6   \n",
       "2                           0              0             23.3   \n",
       "3                          23             94             28.1   \n",
       "4                          35            168             43.1   \n",
       "\n",
       "   Diabetes pedigree function  Age  Class  \n",
       "0                       0.627   50      1  \n",
       "1                       0.351   31      0  \n",
       "2                       0.672   32      1  \n",
       "3                       0.167   21      0  \n",
       "4                       2.288   33      1  "
      ]
     },
     "execution_count": 2,
     "metadata": {},
     "output_type": "execute_result"
    }
   ],
   "source": [
    "# to get the top 5 columns.\n",
    "df.head()"
   ]
  },
  {
   "cell_type": "code",
   "execution_count": 3,
   "id": "96243f8b",
   "metadata": {},
   "outputs": [
    {
     "data": {
      "text/plain": [
       "(768, 9)"
      ]
     },
     "execution_count": 3,
     "metadata": {},
     "output_type": "execute_result"
    }
   ],
   "source": [
    "# to retrive the number of rows and columns.\n",
    "df.shape"
   ]
  },
  {
   "cell_type": "code",
   "execution_count": 4,
   "id": "2b63fe3e",
   "metadata": {},
   "outputs": [
    {
     "name": "stdout",
     "output_type": "stream",
     "text": [
      "<class 'pandas.core.frame.DataFrame'>\n",
      "RangeIndex: 768 entries, 0 to 767\n",
      "Data columns (total 9 columns):\n",
      " #   Column                      Non-Null Count  Dtype  \n",
      "---  ------                      --------------  -----  \n",
      " 0   Number  of times pregnant   768 non-null    int64  \n",
      " 1   Plasma glucose              768 non-null    int64  \n",
      " 2   Diastolic blood pressure    768 non-null    int64  \n",
      " 3   Triceps skinfold thickness  768 non-null    int64  \n",
      " 4   serum insulin               768 non-null    int64  \n",
      " 5   Body mass index             768 non-null    float64\n",
      " 6   Diabetes pedigree function  768 non-null    float64\n",
      " 7   Age                         768 non-null    int64  \n",
      " 8   Class                       768 non-null    int64  \n",
      "dtypes: float64(2), int64(7)\n",
      "memory usage: 54.1 KB\n"
     ]
    }
   ],
   "source": [
    "# basic information about dataset.\n",
    "df.info()"
   ]
  },
  {
   "cell_type": "markdown",
   "id": "3e4f0f54",
   "metadata": {},
   "source": [
    "- Data is clean without any null values.\n",
    "- Data types also suited with column values."
   ]
  },
  {
   "cell_type": "code",
   "execution_count": 5,
   "id": "d564c306",
   "metadata": {},
   "outputs": [
    {
     "data": {
      "text/plain": [
       "Number  of times pregnant     0\n",
       "Plasma glucose                0\n",
       "Diastolic blood pressure      0\n",
       "Triceps skinfold thickness    0\n",
       "serum insulin                 0\n",
       "Body mass index               0\n",
       "Diabetes pedigree function    0\n",
       "Age                           0\n",
       "Class                         0\n",
       "dtype: int64"
      ]
     },
     "execution_count": 5,
     "metadata": {},
     "output_type": "execute_result"
    }
   ],
   "source": [
    "# checking for null values.\n",
    "df.isnull().sum()"
   ]
  },
  {
   "cell_type": "markdown",
   "id": "8e824834",
   "metadata": {},
   "source": [
    "- No values to impute."
   ]
  },
  {
   "cell_type": "code",
   "execution_count": 6,
   "id": "8ba2ac26",
   "metadata": {},
   "outputs": [
    {
     "data": {
      "text/html": [
       "<div>\n",
       "<style scoped>\n",
       "    .dataframe tbody tr th:only-of-type {\n",
       "        vertical-align: middle;\n",
       "    }\n",
       "\n",
       "    .dataframe tbody tr th {\n",
       "        vertical-align: top;\n",
       "    }\n",
       "\n",
       "    .dataframe thead th {\n",
       "        text-align: right;\n",
       "    }\n",
       "</style>\n",
       "<table border=\"1\" class=\"dataframe\">\n",
       "  <thead>\n",
       "    <tr style=\"text-align: right;\">\n",
       "      <th></th>\n",
       "      <th>Number  of times pregnant</th>\n",
       "      <th>Plasma glucose</th>\n",
       "      <th>Diastolic blood pressure</th>\n",
       "      <th>Triceps skinfold thickness</th>\n",
       "      <th>serum insulin</th>\n",
       "      <th>Body mass index</th>\n",
       "      <th>Diabetes pedigree function</th>\n",
       "      <th>Age</th>\n",
       "      <th>Class</th>\n",
       "    </tr>\n",
       "  </thead>\n",
       "  <tbody>\n",
       "    <tr>\n",
       "      <th>count</th>\n",
       "      <td>768.000000</td>\n",
       "      <td>768.000000</td>\n",
       "      <td>768.000000</td>\n",
       "      <td>768.000000</td>\n",
       "      <td>768.000000</td>\n",
       "      <td>768.000000</td>\n",
       "      <td>768.000000</td>\n",
       "      <td>768.000000</td>\n",
       "      <td>768.000000</td>\n",
       "    </tr>\n",
       "    <tr>\n",
       "      <th>mean</th>\n",
       "      <td>3.845052</td>\n",
       "      <td>120.894531</td>\n",
       "      <td>69.105469</td>\n",
       "      <td>20.536458</td>\n",
       "      <td>79.799479</td>\n",
       "      <td>31.992578</td>\n",
       "      <td>0.471876</td>\n",
       "      <td>33.240885</td>\n",
       "      <td>0.348958</td>\n",
       "    </tr>\n",
       "    <tr>\n",
       "      <th>std</th>\n",
       "      <td>3.369578</td>\n",
       "      <td>31.972618</td>\n",
       "      <td>19.355807</td>\n",
       "      <td>15.952218</td>\n",
       "      <td>115.244002</td>\n",
       "      <td>7.884160</td>\n",
       "      <td>0.331329</td>\n",
       "      <td>11.760232</td>\n",
       "      <td>0.476951</td>\n",
       "    </tr>\n",
       "    <tr>\n",
       "      <th>min</th>\n",
       "      <td>0.000000</td>\n",
       "      <td>0.000000</td>\n",
       "      <td>0.000000</td>\n",
       "      <td>0.000000</td>\n",
       "      <td>0.000000</td>\n",
       "      <td>0.000000</td>\n",
       "      <td>0.078000</td>\n",
       "      <td>21.000000</td>\n",
       "      <td>0.000000</td>\n",
       "    </tr>\n",
       "    <tr>\n",
       "      <th>25%</th>\n",
       "      <td>1.000000</td>\n",
       "      <td>99.000000</td>\n",
       "      <td>62.000000</td>\n",
       "      <td>0.000000</td>\n",
       "      <td>0.000000</td>\n",
       "      <td>27.300000</td>\n",
       "      <td>0.243750</td>\n",
       "      <td>24.000000</td>\n",
       "      <td>0.000000</td>\n",
       "    </tr>\n",
       "    <tr>\n",
       "      <th>50%</th>\n",
       "      <td>3.000000</td>\n",
       "      <td>117.000000</td>\n",
       "      <td>72.000000</td>\n",
       "      <td>23.000000</td>\n",
       "      <td>30.500000</td>\n",
       "      <td>32.000000</td>\n",
       "      <td>0.372500</td>\n",
       "      <td>29.000000</td>\n",
       "      <td>0.000000</td>\n",
       "    </tr>\n",
       "    <tr>\n",
       "      <th>75%</th>\n",
       "      <td>6.000000</td>\n",
       "      <td>140.250000</td>\n",
       "      <td>80.000000</td>\n",
       "      <td>32.000000</td>\n",
       "      <td>127.250000</td>\n",
       "      <td>36.600000</td>\n",
       "      <td>0.626250</td>\n",
       "      <td>41.000000</td>\n",
       "      <td>1.000000</td>\n",
       "    </tr>\n",
       "    <tr>\n",
       "      <th>max</th>\n",
       "      <td>17.000000</td>\n",
       "      <td>199.000000</td>\n",
       "      <td>122.000000</td>\n",
       "      <td>99.000000</td>\n",
       "      <td>846.000000</td>\n",
       "      <td>67.100000</td>\n",
       "      <td>2.420000</td>\n",
       "      <td>81.000000</td>\n",
       "      <td>1.000000</td>\n",
       "    </tr>\n",
       "  </tbody>\n",
       "</table>\n",
       "</div>"
      ],
      "text/plain": [
       "       Number  of times pregnant  Plasma glucose  Diastolic blood pressure  \\\n",
       "count                 768.000000      768.000000                768.000000   \n",
       "mean                    3.845052      120.894531                 69.105469   \n",
       "std                     3.369578       31.972618                 19.355807   \n",
       "min                     0.000000        0.000000                  0.000000   \n",
       "25%                     1.000000       99.000000                 62.000000   \n",
       "50%                     3.000000      117.000000                 72.000000   \n",
       "75%                     6.000000      140.250000                 80.000000   \n",
       "max                    17.000000      199.000000                122.000000   \n",
       "\n",
       "       Triceps skinfold thickness  serum insulin  Body mass index  \\\n",
       "count                  768.000000     768.000000       768.000000   \n",
       "mean                    20.536458      79.799479        31.992578   \n",
       "std                     15.952218     115.244002         7.884160   \n",
       "min                      0.000000       0.000000         0.000000   \n",
       "25%                      0.000000       0.000000        27.300000   \n",
       "50%                     23.000000      30.500000        32.000000   \n",
       "75%                     32.000000     127.250000        36.600000   \n",
       "max                     99.000000     846.000000        67.100000   \n",
       "\n",
       "       Diabetes pedigree function         Age       Class  \n",
       "count                  768.000000  768.000000  768.000000  \n",
       "mean                     0.471876   33.240885    0.348958  \n",
       "std                      0.331329   11.760232    0.476951  \n",
       "min                      0.078000   21.000000    0.000000  \n",
       "25%                      0.243750   24.000000    0.000000  \n",
       "50%                      0.372500   29.000000    0.000000  \n",
       "75%                      0.626250   41.000000    1.000000  \n",
       "max                      2.420000   81.000000    1.000000  "
      ]
     },
     "execution_count": 6,
     "metadata": {},
     "output_type": "execute_result"
    }
   ],
   "source": [
    "# retreiving maths behind the dataset to find relations.\n",
    "df.describe()"
   ]
  },
  {
   "cell_type": "code",
   "execution_count": 7,
   "id": "f95e288c",
   "metadata": {},
   "outputs": [
    {
     "data": {
      "image/png": "[encoded data removed]",
      "text/plain": [
       "<Figure size 720x720 with 9 Axes>"
      ]
     },
     "metadata": {
      "needs_background": "light"
     },
     "output_type": "display_data"
    }
   ],
   "source": [
    "# visualising the coloumns to find patterns.\n",
    "df.hist(figsize=(10,10))\n",
    "plt.show()"
   ]
  },
  {
   "cell_type": "markdown",
   "id": "6a404d3d",
   "metadata": {},
   "source": [
    "- By looking the above graphs we can be noticed that *Plasma glucose*, *Diastolic blood pressure* and *Body mass index* were distributed normally.\n",
    "- Rest of all the distributions were skewd left side."
   ]
  },
  {
   "cell_type": "code",
   "execution_count": 8,
   "id": "fb3e9301",
   "metadata": {},
   "outputs": [
    {
     "data": {
      "text/plain": [
       "<AxesSubplot:>"
      ]
     },
     "execution_count": 8,
     "metadata": {},
     "output_type": "execute_result"
    },
    {
     "data": {
      "image/png": "[encoded data removed]",
      "text/plain": [
       "<Figure size 432x288 with 2 Axes>"
      ]
     },
     "metadata": {
      "needs_background": "light"
     },
     "output_type": "display_data"
    }
   ],
   "source": [
    "# checking for correlation between variables.\n",
    "sns.heatmap(df.corr(),linewidths=0.5,annot=True)"
   ]
  },
  {
   "cell_type": "markdown",
   "id": "cfdca51c",
   "metadata": {},
   "source": [
    "- From the above graph I observed that, there is hard to find correlation between variables.  "
   ]
  },
  {
   "cell_type": "code",
   "execution_count": 9,
   "id": "b1c9369f",
   "metadata": {},
   "outputs": [
    {
     "data": {
      "text/plain": [
       "0    500\n",
       "1    268\n",
       "Name: Class, dtype: int64"
      ]
     },
     "execution_count": 9,
     "metadata": {},
     "output_type": "execute_result"
    }
   ],
   "source": [
    "# Count of two labels.\n",
    "df['Class'].value_counts()"
   ]
  },
  {
   "cell_type": "markdown",
   "id": "f8231515",
   "metadata": {},
   "source": [
    "- It looks like balanced dataset.\n",
    "- This data falls under the metrics like Accuracy, Recall, ROC and AUC."
   ]
  },
  {
   "cell_type": "markdown",
   "id": "248b783c",
   "metadata": {},
   "source": [
    "## Splitting data to train, test"
   ]
  },
  {
   "cell_type": "code",
   "execution_count": 10,
   "id": "12c4eb94",
   "metadata": {},
   "outputs": [],
   "source": [
    "# importing the sklearn libraries.\n",
    "from sklearn.model_selection import train_test_split\n",
    "from sklearn.preprocessing import StandardScaler\n",
    "from sklearn.decomposition import PCA\n",
    "from sklearn.pipeline import Pipeline\n",
    "from sklearn.linear_model import LogisticRegression"
   ]
  },
  {
   "cell_type": "code",
   "execution_count": 11,
   "id": "d8c6aeb8",
   "metadata": {},
   "outputs": [],
   "source": [
    "# splitting the data into train and test.\n",
    "X = df[['Number  of times pregnant', 'Plasma glucose',\n",
    "       'Diastolic blood pressure', 'Triceps skinfold thickness',\n",
    "       'serum insulin', 'Body mass index', 'Diabetes pedigree function', 'Age']]\n",
    "y = df['Class']\n"
   ]
  },
  {
   "cell_type": "markdown",
   "id": "e9052761",
   "metadata": {},
   "source": [
    "#### Another way to split the data\n",
    "df1 = df.values  \n",
    "X=df1[:,0:8]  \n",
    "y=df1[:,8]  "
   ]
  },
  {
   "cell_type": "code",
   "execution_count": 12,
   "id": "c130f785",
   "metadata": {},
   "outputs": [],
   "source": [
    "# Splitting data into train and test.\n",
    "X_train, X_test, y_train, y_test=train_test_split(X, y, test_size=0.25, random_state=0)"
   ]
  },
  {
   "cell_type": "markdown",
   "id": "89702c42",
   "metadata": {},
   "source": [
    "- By incresing the random_state value the accuracy of model is getting decrease.\n",
    "- If we assign some random state value always it takes the same data for assigned value.\n",
    "- If we completly remove random state the data splits on its own permutations the accuracy always changes for every execution."
   ]
  },
  {
   "cell_type": "code",
   "execution_count": 13,
   "id": "e346273a",
   "metadata": {},
   "outputs": [
    {
     "name": "stdout",
     "output_type": "stream",
     "text": [
      "No. of training examples: 576\n",
      "No. of testing examples: 192\n",
      "No. of training examples: 576\n",
      "No. of testing examples: 192\n"
     ]
    }
   ],
   "source": [
    "# checking for the shape of train and test.\n",
    "print(f\"No. of training examples: {X_train.shape[0]}\")\n",
    "print(f\"No. of testing examples: {X_test.shape[0]}\")\n",
    "print(f\"No. of training examples: {y_train.shape[0]}\")\n",
    "print(f\"No. of testing examples: {y_test.shape[0]}\")"
   ]
  },
  {
   "cell_type": "markdown",
   "id": "8b9aec3c",
   "metadata": {},
   "source": [
    "## Pipeline implementation with logestic regression"
   ]
  },
  {
   "cell_type": "code",
   "execution_count": 14,
   "id": "b16c2b91",
   "metadata": {},
   "outputs": [],
   "source": [
    "# creating pipeline for the pima dataset.\n",
    "pipeline_lr=Pipeline([('scalar1',StandardScaler()),\n",
    "                     ('lr_classifier',LogisticRegression())])\n",
    "\n",
    "#('pca1',PCA(n_components=4)),"
   ]
  },
  {
   "cell_type": "code",
   "execution_count": 15,
   "id": "252a6082",
   "metadata": {},
   "outputs": [
    {
     "data": {
      "text/plain": [
       "Pipeline(steps=[('scalar1', StandardScaler()),\n",
       "                ('lr_classifier', LogisticRegression())])"
      ]
     },
     "execution_count": 15,
     "metadata": {},
     "output_type": "execute_result"
    }
   ],
   "source": [
    "pipeline_lr.fit(X_train, y_train)"
   ]
  },
  {
   "cell_type": "code",
   "execution_count": 16,
   "id": "08239c12",
   "metadata": {},
   "outputs": [
    {
     "name": "stdout",
     "output_type": "stream",
     "text": [
      "[[118  12]\n",
      " [ 26  36]]\n"
     ]
    }
   ],
   "source": [
    "from sklearn.metrics import confusion_matrix, accuracy_score, recall_score\n",
    "\n",
    "y_test_pred = pipeline_lr.predict(X_test)\n",
    "print(confusion_matrix(y_test, y_test_pred))"
   ]
  },
  {
   "cell_type": "code",
   "execution_count": 17,
   "id": "63141c34",
   "metadata": {},
   "outputs": [
    {
     "data": {
      "text/plain": [
       "0.8020833333333334"
      ]
     },
     "execution_count": 17,
     "metadata": {},
     "output_type": "execute_result"
    }
   ],
   "source": [
    "accuracy = accuracy_score(y_test, y_test_pred )\n",
    "accuracy"
   ]
  },
  {
   "cell_type": "code",
   "execution_count": 18,
   "id": "539de3b5",
   "metadata": {},
   "outputs": [
    {
     "data": {
      "text/plain": [
       "0.5806451612903226"
      ]
     },
     "execution_count": 18,
     "metadata": {},
     "output_type": "execute_result"
    }
   ],
   "source": [
    "recall = recall_score(y_test, y_test_pred )\n",
    "recall"
   ]
  },
  {
   "cell_type": "code",
   "execution_count": 19,
   "id": "f6410fa6",
   "metadata": {},
   "outputs": [
    {
     "name": "stdout",
     "output_type": "stream",
     "text": [
      "              precision    recall  f1-score   support\n",
      "\n",
      "           0       0.82      0.91      0.86       130\n",
      "           1       0.75      0.58      0.65        62\n",
      "\n",
      "    accuracy                           0.80       192\n",
      "   macro avg       0.78      0.74      0.76       192\n",
      "weighted avg       0.80      0.80      0.79       192\n",
      "\n"
     ]
    }
   ],
   "source": [
    "#printing classification report\n",
    "from sklearn.metrics import classification_report\n",
    "print(classification_report(y_test, y_test_pred))"
   ]
  },
  {
   "cell_type": "code",
   "execution_count": 20,
   "id": "e2f82912",
   "metadata": {},
   "outputs": [
    {
     "data": {
      "image/png": "[encoded data removed]",
      "text/plain": [
       "<Figure size 432x288 with 1 Axes>"
      ]
     },
     "metadata": {
      "needs_background": "light"
     },
     "output_type": "display_data"
    }
   ],
   "source": [
    "from sklearn.metrics import roc_curve\n",
    "\n",
    "def generate_probs(X, model=pipeline_lr):\n",
    "    return model.predict_proba(X)[:, 1]\n",
    "\n",
    "def generate_roc(y, probs):\n",
    "    fpr, tpr, _ = roc_curve(y, probs)\n",
    "    return fpr, tpr\n",
    "    \n",
    "fpr_test, tpr_test = generate_roc(y_test, generate_probs(X_test))\n",
    "fpr_train, tpr_train = generate_roc(y_train, generate_probs(X_train))\n",
    "\n",
    "plt.plot(fpr_test, tpr_test,'-r')\n",
    "plt.plot(fpr_train, tpr_train,'-b')\n",
    "plt.xlabel('False Positive Rate')\n",
    "plt.ylabel('True Positive Rate')\n",
    "plt.legend(['Test','Training'])\n",
    "plt.plot([0, 1], [0, 1], color='navy', linestyle='--')\n",
    "plt.show()"
   ]
  },
  {
   "cell_type": "code",
   "execution_count": 21,
   "id": "ad2574a4",
   "metadata": {},
   "outputs": [
    {
     "data": {
      "text/plain": [
       "0.8595533498759305"
      ]
     },
     "execution_count": 21,
     "metadata": {},
     "output_type": "execute_result"
    }
   ],
   "source": [
    "from sklearn.metrics import roc_auc_score\n",
    "\n",
    "roc_auc_score(y_test, generate_probs(X_test))"
   ]
  },
  {
   "cell_type": "markdown",
   "id": "9c751439",
   "metadata": {},
   "source": [
    "## After applying grid search cross validation"
   ]
  },
  {
   "cell_type": "code",
   "execution_count": 34,
   "id": "66390827",
   "metadata": {},
   "outputs": [
    {
     "name": "stdout",
     "output_type": "stream",
     "text": [
      "Fitting 10 folds for each of 30 candidates, totalling 300 fits\n",
      "[CV] END lr_classifier__C=0.5, lr_classifier__class_weight=None, lr_classifier__penalty=l2, lr_classifier__solver=liblinear; total time=   0.0s\n",
      "[CV] END lr_classifier__C=0.5, lr_classifier__class_weight=None, lr_classifier__penalty=l2, lr_classifier__solver=liblinear; total time=   0.0s\n",
      "[CV] END lr_classifier__C=0.5, lr_classifier__class_weight=None, lr_classifier__penalty=l2, lr_classifier__solver=liblinear; total time=   0.0s\n",
      "[CV] END lr_classifier__C=0.5, lr_classifier__class_weight=None, lr_classifier__penalty=l2, lr_classifier__solver=liblinear; total time=   0.0s\n",
      "[CV] END lr_classifier__C=0.5, lr_classifier__class_weight=None, lr_classifier__penalty=l2, lr_classifier__solver=liblinear; total time=   0.0s\n",
      "[CV] END lr_classifier__C=0.5, lr_classifier__class_weight=None, lr_classifier__penalty=l2, lr_classifier__solver=liblinear; total time=   0.0s\n",
      "[CV] END lr_classifier__C=0.5, lr_classifier__class_weight=None, lr_classifier__penalty=l2, lr_classifier__solver=liblinear; total time=   0.0s\n",
      "[CV] END lr_classifier__C=0.5, lr_classifier__class_weight=None, lr_classifier__penalty=l2, lr_classifier__solver=liblinear; total time=   0.0s\n",
      "[CV] END lr_classifier__C=0.5, lr_classifier__class_weight=None, lr_classifier__penalty=l2, lr_classifier__solver=liblinear; total time=   0.0s\n",
      "[CV] END lr_classifier__C=0.5, lr_classifier__class_weight=None, lr_classifier__penalty=l2, lr_classifier__solver=liblinear; total time=   0.0s\n",
      "[CV] END lr_classifier__C=0.5, lr_classifier__class_weight=None, lr_classifier__penalty=l2, lr_classifier__solver=saga; total time=   0.0s\n",
      "[CV] END lr_classifier__C=0.5, lr_classifier__class_weight=None, lr_classifier__penalty=l2, lr_classifier__solver=saga; total time=   0.0s\n",
      "[CV] END lr_classifier__C=0.5, lr_classifier__class_weight=None, lr_classifier__penalty=l2, lr_classifier__solver=saga; total time=   0.0s\n",
      "[CV] END lr_classifier__C=0.5, lr_classifier__class_weight=None, lr_classifier__penalty=l2, lr_classifier__solver=saga; total time=   0.0s\n",
      "[CV] END lr_classifier__C=0.5, lr_classifier__class_weight=None, lr_classifier__penalty=l2, lr_classifier__solver=saga; total time=   0.0s\n",
      "[CV] END lr_classifier__C=0.5, lr_classifier__class_weight=None, lr_classifier__penalty=l2, lr_classifier__solver=saga; total time=   0.0s\n",
      "[CV] END lr_classifier__C=0.5, lr_classifier__class_weight=None, lr_classifier__penalty=l2, lr_classifier__solver=saga; total time=   0.0s\n",
      "[CV] END lr_classifier__C=0.5, lr_classifier__class_weight=None, lr_classifier__penalty=l2, lr_classifier__solver=saga; total time=   0.0s\n",
      "[CV] END lr_classifier__C=0.5, lr_classifier__class_weight=None, lr_classifier__penalty=l2, lr_classifier__solver=saga; total time=   0.0s\n",
      "[CV] END lr_classifier__C=0.5, lr_classifier__class_weight=None, lr_classifier__penalty=l2, lr_classifier__solver=saga; total time=   0.0s\n",
      "[CV] END lr_classifier__C=0.5, lr_classifier__class_weight=None, lr_classifier__penalty=l2, lr_classifier__solver=sag; total time=   0.0s\n",
      "[CV] END lr_classifier__C=0.5, lr_classifier__class_weight=None, lr_classifier__penalty=l2, lr_classifier__solver=sag; total time=   0.0s\n",
      "[CV] END lr_classifier__C=0.5, lr_classifier__class_weight=None, lr_classifier__penalty=l2, lr_classifier__solver=sag; total time=   0.0s\n",
      "[CV] END lr_classifier__C=0.5, lr_classifier__class_weight=None, lr_classifier__penalty=l2, lr_classifier__solver=sag; total time=   0.0s\n",
      "[CV] END lr_classifier__C=0.5, lr_classifier__class_weight=None, lr_classifier__penalty=l2, lr_classifier__solver=sag; total time=   0.0s\n",
      "[CV] END lr_classifier__C=0.5, lr_classifier__class_weight=None, lr_classifier__penalty=l2, lr_classifier__solver=sag; total time=   0.0s\n",
      "[CV] END lr_classifier__C=0.5, lr_classifier__class_weight=None, lr_classifier__penalty=l2, lr_classifier__solver=sag; total time=   0.0s\n",
      "[CV] END lr_classifier__C=0.5, lr_classifier__class_weight=None, lr_classifier__penalty=l2, lr_classifier__solver=sag; total time=   0.0s\n",
      "[CV] END lr_classifier__C=0.5, lr_classifier__class_weight=None, lr_classifier__penalty=l2, lr_classifier__solver=sag; total time=   0.0s\n",
      "[CV] END lr_classifier__C=0.5, lr_classifier__class_weight=None, lr_classifier__penalty=l2, lr_classifier__solver=sag; total time=   0.0s\n",
      "[CV] END lr_classifier__C=0.5, lr_classifier__class_weight=balanced, lr_classifier__penalty=l2, lr_classifier__solver=liblinear; total time=   0.0s\n",
      "[CV] END lr_classifier__C=0.5, lr_classifier__class_weight=balanced, lr_classifier__penalty=l2, lr_classifier__solver=liblinear; total time=   0.0s\n",
      "[CV] END lr_classifier__C=0.5, lr_classifier__class_weight=balanced, lr_classifier__penalty=l2, lr_classifier__solver=liblinear; total time=   0.0s\n",
      "[CV] END lr_classifier__C=0.5, lr_classifier__class_weight=balanced, lr_classifier__penalty=l2, lr_classifier__solver=liblinear; total time=   0.0s\n",
      "[CV] END lr_classifier__C=0.5, lr_classifier__class_weight=balanced, lr_classifier__penalty=l2, lr_classifier__solver=liblinear; total time=   0.0s\n",
      "[CV] END lr_classifier__C=0.5, lr_classifier__class_weight=balanced, lr_classifier__penalty=l2, lr_classifier__solver=liblinear; total time=   0.0s\n",
      "[CV] END lr_classifier__C=0.5, lr_classifier__class_weight=balanced, lr_classifier__penalty=l2, lr_classifier__solver=liblinear; total time=   0.0s\n",
      "[CV] END lr_classifier__C=0.5, lr_classifier__class_weight=balanced, lr_classifier__penalty=l2, lr_classifier__solver=liblinear; total time=   0.0s\n",
      "[CV] END lr_classifier__C=0.5, lr_classifier__class_weight=balanced, lr_classifier__penalty=l2, lr_classifier__solver=liblinear; total time=   0.0s\n",
      "[CV] END lr_classifier__C=0.5, lr_classifier__class_weight=balanced, lr_classifier__penalty=l2, lr_classifier__solver=liblinear; total time=   0.0s\n",
      "[CV] END lr_classifier__C=0.5, lr_classifier__class_weight=balanced, lr_classifier__penalty=l2, lr_classifier__solver=saga; total time=   0.0s\n",
      "[CV] END lr_classifier__C=0.5, lr_classifier__class_weight=balanced, lr_classifier__penalty=l2, lr_classifier__solver=saga; total time=   0.0s\n",
      "[CV] END lr_classifier__C=0.5, lr_classifier__class_weight=balanced, lr_classifier__penalty=l2, lr_classifier__solver=saga; total time=   0.0s\n",
      "[CV] END lr_classifier__C=0.5, lr_classifier__class_weight=balanced, lr_classifier__penalty=l2, lr_classifier__solver=saga; total time=   0.0s\n",
      "[CV] END lr_classifier__C=0.5, lr_classifier__class_weight=balanced, lr_classifier__penalty=l2, lr_classifier__solver=saga; total time=   0.0s\n",
      "[CV] END lr_classifier__C=0.5, lr_classifier__class_weight=balanced, lr_classifier__penalty=l2, lr_classifier__solver=saga; total time=   0.0s\n",
      "[CV] END lr_classifier__C=0.5, lr_classifier__class_weight=balanced, lr_classifier__penalty=l2, lr_classifier__solver=saga; total time=   0.0s\n",
      "[CV] END lr_classifier__C=0.5, lr_classifier__class_weight=balanced, lr_classifier__penalty=l2, lr_classifier__solver=saga; total time=   0.0s\n",
      "[CV] END lr_classifier__C=0.5, lr_classifier__class_weight=balanced, lr_classifier__penalty=l2, lr_classifier__solver=saga; total time=   0.0s\n",
      "[CV] END lr_classifier__C=0.5, lr_classifier__class_weight=balanced, lr_classifier__penalty=l2, lr_classifier__solver=saga; total time=   0.0s\n",
      "[CV] END lr_classifier__C=0.5, lr_classifier__class_weight=balanced, lr_classifier__penalty=l2, lr_classifier__solver=sag; total time=   0.0s\n",
      "[CV] END lr_classifier__C=0.5, lr_classifier__class_weight=balanced, lr_classifier__penalty=l2, lr_classifier__solver=sag; total time=   0.0s\n",
      "[CV] END lr_classifier__C=0.5, lr_classifier__class_weight=balanced, lr_classifier__penalty=l2, lr_classifier__solver=sag; total time=   0.0s\n",
      "[CV] END lr_classifier__C=0.5, lr_classifier__class_weight=balanced, lr_classifier__penalty=l2, lr_classifier__solver=sag; total time=   0.0s\n",
      "[CV] END lr_classifier__C=0.5, lr_classifier__class_weight=balanced, lr_classifier__penalty=l2, lr_classifier__solver=sag; total time=   0.0s\n",
      "[CV] END lr_classifier__C=0.5, lr_classifier__class_weight=balanced, lr_classifier__penalty=l2, lr_classifier__solver=sag; total time=   0.0s\n",
      "[CV] END lr_classifier__C=0.5, lr_classifier__class_weight=balanced, lr_classifier__penalty=l2, lr_classifier__solver=sag; total time=   0.0s\n",
      "[CV] END lr_classifier__C=0.5, lr_classifier__class_weight=balanced, lr_classifier__penalty=l2, lr_classifier__solver=sag; total time=   0.0s\n",
      "[CV] END lr_classifier__C=0.5, lr_classifier__class_weight=balanced, lr_classifier__penalty=l2, lr_classifier__solver=sag; total time=   0.0s\n",
      "[CV] END lr_classifier__C=0.5, lr_classifier__class_weight=balanced, lr_classifier__penalty=l2, lr_classifier__solver=sag; total time=   0.0s\n",
      "[CV] END lr_classifier__C=1.0, lr_classifier__class_weight=None, lr_classifier__penalty=l2, lr_classifier__solver=liblinear; total time=   0.0s\n",
      "[CV] END lr_classifier__C=1.0, lr_classifier__class_weight=None, lr_classifier__penalty=l2, lr_classifier__solver=liblinear; total time=   0.0s\n",
      "[CV] END lr_classifier__C=1.0, lr_classifier__class_weight=None, lr_classifier__penalty=l2, lr_classifier__solver=liblinear; total time=   0.0s\n",
      "[CV] END lr_classifier__C=1.0, lr_classifier__class_weight=None, lr_classifier__penalty=l2, lr_classifier__solver=liblinear; total time=   0.0s\n",
      "[CV] END lr_classifier__C=1.0, lr_classifier__class_weight=None, lr_classifier__penalty=l2, lr_classifier__solver=liblinear; total time=   0.0s\n"
     ]
    },
    {
     "name": "stdout",
     "output_type": "stream",
     "text": [
      "[CV] END lr_classifier__C=1.0, lr_classifier__class_weight=None, lr_classifier__penalty=l2, lr_classifier__solver=liblinear; total time=   0.0s\n",
      "[CV] END lr_classifier__C=1.0, lr_classifier__class_weight=None, lr_classifier__penalty=l2, lr_classifier__solver=liblinear; total time=   0.0s\n",
      "[CV] END lr_classifier__C=1.0, lr_classifier__class_weight=None, lr_classifier__penalty=l2, lr_classifier__solver=liblinear; total time=   0.0s\n",
      "[CV] END lr_classifier__C=1.0, lr_classifier__class_weight=None, lr_classifier__penalty=l2, lr_classifier__solver=liblinear; total time=   0.0s\n",
      "[CV] END lr_classifier__C=1.0, lr_classifier__class_weight=None, lr_classifier__penalty=l2, lr_classifier__solver=liblinear; total time=   0.0s\n",
      "[CV] END lr_classifier__C=1.0, lr_classifier__class_weight=None, lr_classifier__penalty=l2, lr_classifier__solver=saga; total time=   0.0s\n",
      "[CV] END lr_classifier__C=1.0, lr_classifier__class_weight=None, lr_classifier__penalty=l2, lr_classifier__solver=saga; total time=   0.0s\n",
      "[CV] END lr_classifier__C=1.0, lr_classifier__class_weight=None, lr_classifier__penalty=l2, lr_classifier__solver=saga; total time=   0.0s\n",
      "[CV] END lr_classifier__C=1.0, lr_classifier__class_weight=None, lr_classifier__penalty=l2, lr_classifier__solver=saga; total time=   0.0s\n",
      "[CV] END lr_classifier__C=1.0, lr_classifier__class_weight=None, lr_classifier__penalty=l2, lr_classifier__solver=saga; total time=   0.0s\n",
      "[CV] END lr_classifier__C=1.0, lr_classifier__class_weight=None, lr_classifier__penalty=l2, lr_classifier__solver=saga; total time=   0.0s\n",
      "[CV] END lr_classifier__C=1.0, lr_classifier__class_weight=None, lr_classifier__penalty=l2, lr_classifier__solver=saga; total time=   0.0s\n",
      "[CV] END lr_classifier__C=1.0, lr_classifier__class_weight=None, lr_classifier__penalty=l2, lr_classifier__solver=saga; total time=   0.0s\n",
      "[CV] END lr_classifier__C=1.0, lr_classifier__class_weight=None, lr_classifier__penalty=l2, lr_classifier__solver=saga; total time=   0.0s\n",
      "[CV] END lr_classifier__C=1.0, lr_classifier__class_weight=None, lr_classifier__penalty=l2, lr_classifier__solver=saga; total time=   0.0s\n",
      "[CV] END lr_classifier__C=1.0, lr_classifier__class_weight=None, lr_classifier__penalty=l2, lr_classifier__solver=sag; total time=   0.0s\n",
      "[CV] END lr_classifier__C=1.0, lr_classifier__class_weight=None, lr_classifier__penalty=l2, lr_classifier__solver=sag; total time=   0.0s\n",
      "[CV] END lr_classifier__C=1.0, lr_classifier__class_weight=None, lr_classifier__penalty=l2, lr_classifier__solver=sag; total time=   0.0s\n",
      "[CV] END lr_classifier__C=1.0, lr_classifier__class_weight=None, lr_classifier__penalty=l2, lr_classifier__solver=sag; total time=   0.0s\n",
      "[CV] END lr_classifier__C=1.0, lr_classifier__class_weight=None, lr_classifier__penalty=l2, lr_classifier__solver=sag; total time=   0.0s\n",
      "[CV] END lr_classifier__C=1.0, lr_classifier__class_weight=None, lr_classifier__penalty=l2, lr_classifier__solver=sag; total time=   0.0s\n",
      "[CV] END lr_classifier__C=1.0, lr_classifier__class_weight=None, lr_classifier__penalty=l2, lr_classifier__solver=sag; total time=   0.0s\n",
      "[CV] END lr_classifier__C=1.0, lr_classifier__class_weight=None, lr_classifier__penalty=l2, lr_classifier__solver=sag; total time=   0.0s\n",
      "[CV] END lr_classifier__C=1.0, lr_classifier__class_weight=None, lr_classifier__penalty=l2, lr_classifier__solver=sag; total time=   0.0s\n",
      "[CV] END lr_classifier__C=1.0, lr_classifier__class_weight=None, lr_classifier__penalty=l2, lr_classifier__solver=sag; total time=   0.0s\n",
      "[CV] END lr_classifier__C=1.0, lr_classifier__class_weight=balanced, lr_classifier__penalty=l2, lr_classifier__solver=liblinear; total time=   0.0s\n",
      "[CV] END lr_classifier__C=1.0, lr_classifier__class_weight=balanced, lr_classifier__penalty=l2, lr_classifier__solver=liblinear; total time=   0.0s\n",
      "[CV] END lr_classifier__C=1.0, lr_classifier__class_weight=balanced, lr_classifier__penalty=l2, lr_classifier__solver=liblinear; total time=   0.0s\n",
      "[CV] END lr_classifier__C=1.0, lr_classifier__class_weight=balanced, lr_classifier__penalty=l2, lr_classifier__solver=liblinear; total time=   0.0s\n",
      "[CV] END lr_classifier__C=1.0, lr_classifier__class_weight=balanced, lr_classifier__penalty=l2, lr_classifier__solver=liblinear; total time=   0.0s\n",
      "[CV] END lr_classifier__C=1.0, lr_classifier__class_weight=balanced, lr_classifier__penalty=l2, lr_classifier__solver=liblinear; total time=   0.0s\n",
      "[CV] END lr_classifier__C=1.0, lr_classifier__class_weight=balanced, lr_classifier__penalty=l2, lr_classifier__solver=liblinear; total time=   0.0s\n",
      "[CV] END lr_classifier__C=1.0, lr_classifier__class_weight=balanced, lr_classifier__penalty=l2, lr_classifier__solver=liblinear; total time=   0.0s\n",
      "[CV] END lr_classifier__C=1.0, lr_classifier__class_weight=balanced, lr_classifier__penalty=l2, lr_classifier__solver=liblinear; total time=   0.0s\n",
      "[CV] END lr_classifier__C=1.0, lr_classifier__class_weight=balanced, lr_classifier__penalty=l2, lr_classifier__solver=liblinear; total time=   0.0s\n",
      "[CV] END lr_classifier__C=1.0, lr_classifier__class_weight=balanced, lr_classifier__penalty=l2, lr_classifier__solver=saga; total time=   0.0s\n",
      "[CV] END lr_classifier__C=1.0, lr_classifier__class_weight=balanced, lr_classifier__penalty=l2, lr_classifier__solver=saga; total time=   0.0s\n",
      "[CV] END lr_classifier__C=1.0, lr_classifier__class_weight=balanced, lr_classifier__penalty=l2, lr_classifier__solver=saga; total time=   0.0s\n",
      "[CV] END lr_classifier__C=1.0, lr_classifier__class_weight=balanced, lr_classifier__penalty=l2, lr_classifier__solver=saga; total time=   0.0s\n",
      "[CV] END lr_classifier__C=1.0, lr_classifier__class_weight=balanced, lr_classifier__penalty=l2, lr_classifier__solver=saga; total time=   0.0s\n",
      "[CV] END lr_classifier__C=1.0, lr_classifier__class_weight=balanced, lr_classifier__penalty=l2, lr_classifier__solver=saga; total time=   0.0s\n",
      "[CV] END lr_classifier__C=1.0, lr_classifier__class_weight=balanced, lr_classifier__penalty=l2, lr_classifier__solver=saga; total time=   0.0s\n",
      "[CV] END lr_classifier__C=1.0, lr_classifier__class_weight=balanced, lr_classifier__penalty=l2, lr_classifier__solver=saga; total time=   0.0s\n",
      "[CV] END lr_classifier__C=1.0, lr_classifier__class_weight=balanced, lr_classifier__penalty=l2, lr_classifier__solver=saga; total time=   0.0s\n",
      "[CV] END lr_classifier__C=1.0, lr_classifier__class_weight=balanced, lr_classifier__penalty=l2, lr_classifier__solver=saga; total time=   0.0s\n",
      "[CV] END lr_classifier__C=1.0, lr_classifier__class_weight=balanced, lr_classifier__penalty=l2, lr_classifier__solver=sag; total time=   0.0s\n",
      "[CV] END lr_classifier__C=1.0, lr_classifier__class_weight=balanced, lr_classifier__penalty=l2, lr_classifier__solver=sag; total time=   0.0s\n",
      "[CV] END lr_classifier__C=1.0, lr_classifier__class_weight=balanced, lr_classifier__penalty=l2, lr_classifier__solver=sag; total time=   0.0s\n",
      "[CV] END lr_classifier__C=1.0, lr_classifier__class_weight=balanced, lr_classifier__penalty=l2, lr_classifier__solver=sag; total time=   0.0s\n",
      "[CV] END lr_classifier__C=1.0, lr_classifier__class_weight=balanced, lr_classifier__penalty=l2, lr_classifier__solver=sag; total time=   0.0s\n",
      "[CV] END lr_classifier__C=1.0, lr_classifier__class_weight=balanced, lr_classifier__penalty=l2, lr_classifier__solver=sag; total time=   0.0s\n",
      "[CV] END lr_classifier__C=1.0, lr_classifier__class_weight=balanced, lr_classifier__penalty=l2, lr_classifier__solver=sag; total time=   0.0s\n",
      "[CV] END lr_classifier__C=1.0, lr_classifier__class_weight=balanced, lr_classifier__penalty=l2, lr_classifier__solver=sag; total time=   0.0s\n",
      "[CV] END lr_classifier__C=1.0, lr_classifier__class_weight=balanced, lr_classifier__penalty=l2, lr_classifier__solver=sag; total time=   0.0s\n",
      "[CV] END lr_classifier__C=1.0, lr_classifier__class_weight=balanced, lr_classifier__penalty=l2, lr_classifier__solver=sag; total time=   0.0s\n",
      "[CV] END lr_classifier__C=1.5, lr_classifier__class_weight=None, lr_classifier__penalty=l2, lr_classifier__solver=liblinear; total time=   0.0s\n",
      "[CV] END lr_classifier__C=1.5, lr_classifier__class_weight=None, lr_classifier__penalty=l2, lr_classifier__solver=liblinear; total time=   0.0s\n",
      "[CV] END lr_classifier__C=1.5, lr_classifier__class_weight=None, lr_classifier__penalty=l2, lr_classifier__solver=liblinear; total time=   0.0s\n",
      "[CV] END lr_classifier__C=1.5, lr_classifier__class_weight=None, lr_classifier__penalty=l2, lr_classifier__solver=liblinear; total time=   0.0s\n",
      "[CV] END lr_classifier__C=1.5, lr_classifier__class_weight=None, lr_classifier__penalty=l2, lr_classifier__solver=liblinear; total time=   0.0s\n",
      "[CV] END lr_classifier__C=1.5, lr_classifier__class_weight=None, lr_classifier__penalty=l2, lr_classifier__solver=liblinear; total time=   0.0s\n",
      "[CV] END lr_classifier__C=1.5, lr_classifier__class_weight=None, lr_classifier__penalty=l2, lr_classifier__solver=liblinear; total time=   0.0s\n"
     ]
    },
    {
     "name": "stdout",
     "output_type": "stream",
     "text": [
      "[CV] END lr_classifier__C=1.5, lr_classifier__class_weight=None, lr_classifier__penalty=l2, lr_classifier__solver=liblinear; total time=   0.0s\n",
      "[CV] END lr_classifier__C=1.5, lr_classifier__class_weight=None, lr_classifier__penalty=l2, lr_classifier__solver=liblinear; total time=   0.0s\n",
      "[CV] END lr_classifier__C=1.5, lr_classifier__class_weight=None, lr_classifier__penalty=l2, lr_classifier__solver=liblinear; total time=   0.0s\n",
      "[CV] END lr_classifier__C=1.5, lr_classifier__class_weight=None, lr_classifier__penalty=l2, lr_classifier__solver=saga; total time=   0.0s\n",
      "[CV] END lr_classifier__C=1.5, lr_classifier__class_weight=None, lr_classifier__penalty=l2, lr_classifier__solver=saga; total time=   0.0s\n",
      "[CV] END lr_classifier__C=1.5, lr_classifier__class_weight=None, lr_classifier__penalty=l2, lr_classifier__solver=saga; total time=   0.0s\n",
      "[CV] END lr_classifier__C=1.5, lr_classifier__class_weight=None, lr_classifier__penalty=l2, lr_classifier__solver=saga; total time=   0.0s\n",
      "[CV] END lr_classifier__C=1.5, lr_classifier__class_weight=None, lr_classifier__penalty=l2, lr_classifier__solver=saga; total time=   0.0s\n",
      "[CV] END lr_classifier__C=1.5, lr_classifier__class_weight=None, lr_classifier__penalty=l2, lr_classifier__solver=saga; total time=   0.0s\n",
      "[CV] END lr_classifier__C=1.5, lr_classifier__class_weight=None, lr_classifier__penalty=l2, lr_classifier__solver=saga; total time=   0.0s\n",
      "[CV] END lr_classifier__C=1.5, lr_classifier__class_weight=None, lr_classifier__penalty=l2, lr_classifier__solver=saga; total time=   0.0s\n",
      "[CV] END lr_classifier__C=1.5, lr_classifier__class_weight=None, lr_classifier__penalty=l2, lr_classifier__solver=saga; total time=   0.0s\n",
      "[CV] END lr_classifier__C=1.5, lr_classifier__class_weight=None, lr_classifier__penalty=l2, lr_classifier__solver=saga; total time=   0.0s\n",
      "[CV] END lr_classifier__C=1.5, lr_classifier__class_weight=None, lr_classifier__penalty=l2, lr_classifier__solver=sag; total time=   0.0s\n",
      "[CV] END lr_classifier__C=1.5, lr_classifier__class_weight=None, lr_classifier__penalty=l2, lr_classifier__solver=sag; total time=   0.0s\n",
      "[CV] END lr_classifier__C=1.5, lr_classifier__class_weight=None, lr_classifier__penalty=l2, lr_classifier__solver=sag; total time=   0.0s\n",
      "[CV] END lr_classifier__C=1.5, lr_classifier__class_weight=None, lr_classifier__penalty=l2, lr_classifier__solver=sag; total time=   0.0s\n",
      "[CV] END lr_classifier__C=1.5, lr_classifier__class_weight=None, lr_classifier__penalty=l2, lr_classifier__solver=sag; total time=   0.0s\n",
      "[CV] END lr_classifier__C=1.5, lr_classifier__class_weight=None, lr_classifier__penalty=l2, lr_classifier__solver=sag; total time=   0.0s\n",
      "[CV] END lr_classifier__C=1.5, lr_classifier__class_weight=None, lr_classifier__penalty=l2, lr_classifier__solver=sag; total time=   0.0s\n",
      "[CV] END lr_classifier__C=1.5, lr_classifier__class_weight=None, lr_classifier__penalty=l2, lr_classifier__solver=sag; total time=   0.0s\n",
      "[CV] END lr_classifier__C=1.5, lr_classifier__class_weight=None, lr_classifier__penalty=l2, lr_classifier__solver=sag; total time=   0.0s\n",
      "[CV] END lr_classifier__C=1.5, lr_classifier__class_weight=None, lr_classifier__penalty=l2, lr_classifier__solver=sag; total time=   0.0s\n",
      "[CV] END lr_classifier__C=1.5, lr_classifier__class_weight=balanced, lr_classifier__penalty=l2, lr_classifier__solver=liblinear; total time=   0.0s\n",
      "[CV] END lr_classifier__C=1.5, lr_classifier__class_weight=balanced, lr_classifier__penalty=l2, lr_classifier__solver=liblinear; total time=   0.0s\n",
      "[CV] END lr_classifier__C=1.5, lr_classifier__class_weight=balanced, lr_classifier__penalty=l2, lr_classifier__solver=liblinear; total time=   0.0s\n",
      "[CV] END lr_classifier__C=1.5, lr_classifier__class_weight=balanced, lr_classifier__penalty=l2, lr_classifier__solver=liblinear; total time=   0.0s\n",
      "[CV] END lr_classifier__C=1.5, lr_classifier__class_weight=balanced, lr_classifier__penalty=l2, lr_classifier__solver=liblinear; total time=   0.0s\n",
      "[CV] END lr_classifier__C=1.5, lr_classifier__class_weight=balanced, lr_classifier__penalty=l2, lr_classifier__solver=liblinear; total time=   0.0s\n",
      "[CV] END lr_classifier__C=1.5, lr_classifier__class_weight=balanced, lr_classifier__penalty=l2, lr_classifier__solver=liblinear; total time=   0.0s\n",
      "[CV] END lr_classifier__C=1.5, lr_classifier__class_weight=balanced, lr_classifier__penalty=l2, lr_classifier__solver=liblinear; total time=   0.0s\n",
      "[CV] END lr_classifier__C=1.5, lr_classifier__class_weight=balanced, lr_classifier__penalty=l2, lr_classifier__solver=liblinear; total time=   0.0s\n",
      "[CV] END lr_classifier__C=1.5, lr_classifier__class_weight=balanced, lr_classifier__penalty=l2, lr_classifier__solver=liblinear; total time=   0.0s\n",
      "[CV] END lr_classifier__C=1.5, lr_classifier__class_weight=balanced, lr_classifier__penalty=l2, lr_classifier__solver=saga; total time=   0.0s\n",
      "[CV] END lr_classifier__C=1.5, lr_classifier__class_weight=balanced, lr_classifier__penalty=l2, lr_classifier__solver=saga; total time=   0.0s\n",
      "[CV] END lr_classifier__C=1.5, lr_classifier__class_weight=balanced, lr_classifier__penalty=l2, lr_classifier__solver=saga; total time=   0.0s\n",
      "[CV] END lr_classifier__C=1.5, lr_classifier__class_weight=balanced, lr_classifier__penalty=l2, lr_classifier__solver=saga; total time=   0.0s\n",
      "[CV] END lr_classifier__C=1.5, lr_classifier__class_weight=balanced, lr_classifier__penalty=l2, lr_classifier__solver=saga; total time=   0.0s\n",
      "[CV] END lr_classifier__C=1.5, lr_classifier__class_weight=balanced, lr_classifier__penalty=l2, lr_classifier__solver=saga; total time=   0.0s\n",
      "[CV] END lr_classifier__C=1.5, lr_classifier__class_weight=balanced, lr_classifier__penalty=l2, lr_classifier__solver=saga; total time=   0.0s\n",
      "[CV] END lr_classifier__C=1.5, lr_classifier__class_weight=balanced, lr_classifier__penalty=l2, lr_classifier__solver=saga; total time=   0.0s\n",
      "[CV] END lr_classifier__C=1.5, lr_classifier__class_weight=balanced, lr_classifier__penalty=l2, lr_classifier__solver=saga; total time=   0.0s\n",
      "[CV] END lr_classifier__C=1.5, lr_classifier__class_weight=balanced, lr_classifier__penalty=l2, lr_classifier__solver=saga; total time=   0.0s\n",
      "[CV] END lr_classifier__C=1.5, lr_classifier__class_weight=balanced, lr_classifier__penalty=l2, lr_classifier__solver=sag; total time=   0.0s\n",
      "[CV] END lr_classifier__C=1.5, lr_classifier__class_weight=balanced, lr_classifier__penalty=l2, lr_classifier__solver=sag; total time=   0.0s\n",
      "[CV] END lr_classifier__C=1.5, lr_classifier__class_weight=balanced, lr_classifier__penalty=l2, lr_classifier__solver=sag; total time=   0.0s\n",
      "[CV] END lr_classifier__C=1.5, lr_classifier__class_weight=balanced, lr_classifier__penalty=l2, lr_classifier__solver=sag; total time=   0.0s\n",
      "[CV] END lr_classifier__C=1.5, lr_classifier__class_weight=balanced, lr_classifier__penalty=l2, lr_classifier__solver=sag; total time=   0.0s\n",
      "[CV] END lr_classifier__C=1.5, lr_classifier__class_weight=balanced, lr_classifier__penalty=l2, lr_classifier__solver=sag; total time=   0.0s\n",
      "[CV] END lr_classifier__C=1.5, lr_classifier__class_weight=balanced, lr_classifier__penalty=l2, lr_classifier__solver=sag; total time=   0.0s\n",
      "[CV] END lr_classifier__C=1.5, lr_classifier__class_weight=balanced, lr_classifier__penalty=l2, lr_classifier__solver=sag; total time=   0.0s\n",
      "[CV] END lr_classifier__C=1.5, lr_classifier__class_weight=balanced, lr_classifier__penalty=l2, lr_classifier__solver=sag; total time=   0.0s\n",
      "[CV] END lr_classifier__C=1.5, lr_classifier__class_weight=balanced, lr_classifier__penalty=l2, lr_classifier__solver=sag; total time=   0.0s\n",
      "[CV] END lr_classifier__C=2, lr_classifier__class_weight=None, lr_classifier__penalty=l2, lr_classifier__solver=liblinear; total time=   0.0s\n",
      "[CV] END lr_classifier__C=2, lr_classifier__class_weight=None, lr_classifier__penalty=l2, lr_classifier__solver=liblinear; total time=   0.0s\n",
      "[CV] END lr_classifier__C=2, lr_classifier__class_weight=None, lr_classifier__penalty=l2, lr_classifier__solver=liblinear; total time=   0.0s\n",
      "[CV] END lr_classifier__C=2, lr_classifier__class_weight=None, lr_classifier__penalty=l2, lr_classifier__solver=liblinear; total time=   0.0s\n",
      "[CV] END lr_classifier__C=2, lr_classifier__class_weight=None, lr_classifier__penalty=l2, lr_classifier__solver=liblinear; total time=   0.0s\n",
      "[CV] END lr_classifier__C=2, lr_classifier__class_weight=None, lr_classifier__penalty=l2, lr_classifier__solver=liblinear; total time=   0.0s\n",
      "[CV] END lr_classifier__C=2, lr_classifier__class_weight=None, lr_classifier__penalty=l2, lr_classifier__solver=liblinear; total time=   0.0s\n",
      "[CV] END lr_classifier__C=2, lr_classifier__class_weight=None, lr_classifier__penalty=l2, lr_classifier__solver=liblinear; total time=   0.0s\n",
      "[CV] END lr_classifier__C=2, lr_classifier__class_weight=None, lr_classifier__penalty=l2, lr_classifier__solver=liblinear; total time=   0.0s\n",
      "[CV] END lr_classifier__C=2, lr_classifier__class_weight=None, lr_classifier__penalty=l2, lr_classifier__solver=liblinear; total time=   0.0s\n"
     ]
    },
    {
     "name": "stdout",
     "output_type": "stream",
     "text": [
      "[CV] END lr_classifier__C=2, lr_classifier__class_weight=None, lr_classifier__penalty=l2, lr_classifier__solver=saga; total time=   0.0s\n",
      "[CV] END lr_classifier__C=2, lr_classifier__class_weight=None, lr_classifier__penalty=l2, lr_classifier__solver=saga; total time=   0.0s\n",
      "[CV] END lr_classifier__C=2, lr_classifier__class_weight=None, lr_classifier__penalty=l2, lr_classifier__solver=saga; total time=   0.0s\n",
      "[CV] END lr_classifier__C=2, lr_classifier__class_weight=None, lr_classifier__penalty=l2, lr_classifier__solver=saga; total time=   0.0s\n",
      "[CV] END lr_classifier__C=2, lr_classifier__class_weight=None, lr_classifier__penalty=l2, lr_classifier__solver=saga; total time=   0.0s\n",
      "[CV] END lr_classifier__C=2, lr_classifier__class_weight=None, lr_classifier__penalty=l2, lr_classifier__solver=saga; total time=   0.0s\n",
      "[CV] END lr_classifier__C=2, lr_classifier__class_weight=None, lr_classifier__penalty=l2, lr_classifier__solver=saga; total time=   0.0s\n",
      "[CV] END lr_classifier__C=2, lr_classifier__class_weight=None, lr_classifier__penalty=l2, lr_classifier__solver=saga; total time=   0.0s\n",
      "[CV] END lr_classifier__C=2, lr_classifier__class_weight=None, lr_classifier__penalty=l2, lr_classifier__solver=saga; total time=   0.0s\n",
      "[CV] END lr_classifier__C=2, lr_classifier__class_weight=None, lr_classifier__penalty=l2, lr_classifier__solver=saga; total time=   0.0s\n",
      "[CV] END lr_classifier__C=2, lr_classifier__class_weight=None, lr_classifier__penalty=l2, lr_classifier__solver=sag; total time=   0.0s\n",
      "[CV] END lr_classifier__C=2, lr_classifier__class_weight=None, lr_classifier__penalty=l2, lr_classifier__solver=sag; total time=   0.0s\n",
      "[CV] END lr_classifier__C=2, lr_classifier__class_weight=None, lr_classifier__penalty=l2, lr_classifier__solver=sag; total time=   0.0s\n",
      "[CV] END lr_classifier__C=2, lr_classifier__class_weight=None, lr_classifier__penalty=l2, lr_classifier__solver=sag; total time=   0.0s\n",
      "[CV] END lr_classifier__C=2, lr_classifier__class_weight=None, lr_classifier__penalty=l2, lr_classifier__solver=sag; total time=   0.0s\n",
      "[CV] END lr_classifier__C=2, lr_classifier__class_weight=None, lr_classifier__penalty=l2, lr_classifier__solver=sag; total time=   0.0s\n",
      "[CV] END lr_classifier__C=2, lr_classifier__class_weight=None, lr_classifier__penalty=l2, lr_classifier__solver=sag; total time=   0.0s\n",
      "[CV] END lr_classifier__C=2, lr_classifier__class_weight=None, lr_classifier__penalty=l2, lr_classifier__solver=sag; total time=   0.0s\n",
      "[CV] END lr_classifier__C=2, lr_classifier__class_weight=None, lr_classifier__penalty=l2, lr_classifier__solver=sag; total time=   0.0s\n",
      "[CV] END lr_classifier__C=2, lr_classifier__class_weight=None, lr_classifier__penalty=l2, lr_classifier__solver=sag; total time=   0.0s\n",
      "[CV] END lr_classifier__C=2, lr_classifier__class_weight=balanced, lr_classifier__penalty=l2, lr_classifier__solver=liblinear; total time=   0.0s\n",
      "[CV] END lr_classifier__C=2, lr_classifier__class_weight=balanced, lr_classifier__penalty=l2, lr_classifier__solver=liblinear; total time=   0.0s\n",
      "[CV] END lr_classifier__C=2, lr_classifier__class_weight=balanced, lr_classifier__penalty=l2, lr_classifier__solver=liblinear; total time=   0.0s\n",
      "[CV] END lr_classifier__C=2, lr_classifier__class_weight=balanced, lr_classifier__penalty=l2, lr_classifier__solver=liblinear; total time=   0.0s\n",
      "[CV] END lr_classifier__C=2, lr_classifier__class_weight=balanced, lr_classifier__penalty=l2, lr_classifier__solver=liblinear; total time=   0.0s\n",
      "[CV] END lr_classifier__C=2, lr_classifier__class_weight=balanced, lr_classifier__penalty=l2, lr_classifier__solver=liblinear; total time=   0.0s\n",
      "[CV] END lr_classifier__C=2, lr_classifier__class_weight=balanced, lr_classifier__penalty=l2, lr_classifier__solver=liblinear; total time=   0.0s\n",
      "[CV] END lr_classifier__C=2, lr_classifier__class_weight=balanced, lr_classifier__penalty=l2, lr_classifier__solver=liblinear; total time=   0.0s\n",
      "[CV] END lr_classifier__C=2, lr_classifier__class_weight=balanced, lr_classifier__penalty=l2, lr_classifier__solver=liblinear; total time=   0.0s\n",
      "[CV] END lr_classifier__C=2, lr_classifier__class_weight=balanced, lr_classifier__penalty=l2, lr_classifier__solver=liblinear; total time=   0.0s\n",
      "[CV] END lr_classifier__C=2, lr_classifier__class_weight=balanced, lr_classifier__penalty=l2, lr_classifier__solver=saga; total time=   0.0s\n",
      "[CV] END lr_classifier__C=2, lr_classifier__class_weight=balanced, lr_classifier__penalty=l2, lr_classifier__solver=saga; total time=   0.0s\n",
      "[CV] END lr_classifier__C=2, lr_classifier__class_weight=balanced, lr_classifier__penalty=l2, lr_classifier__solver=saga; total time=   0.0s\n",
      "[CV] END lr_classifier__C=2, lr_classifier__class_weight=balanced, lr_classifier__penalty=l2, lr_classifier__solver=saga; total time=   0.0s\n",
      "[CV] END lr_classifier__C=2, lr_classifier__class_weight=balanced, lr_classifier__penalty=l2, lr_classifier__solver=saga; total time=   0.0s\n",
      "[CV] END lr_classifier__C=2, lr_classifier__class_weight=balanced, lr_classifier__penalty=l2, lr_classifier__solver=saga; total time=   0.0s\n",
      "[CV] END lr_classifier__C=2, lr_classifier__class_weight=balanced, lr_classifier__penalty=l2, lr_classifier__solver=saga; total time=   0.0s\n",
      "[CV] END lr_classifier__C=2, lr_classifier__class_weight=balanced, lr_classifier__penalty=l2, lr_classifier__solver=saga; total time=   0.0s\n",
      "[CV] END lr_classifier__C=2, lr_classifier__class_weight=balanced, lr_classifier__penalty=l2, lr_classifier__solver=saga; total time=   0.0s\n",
      "[CV] END lr_classifier__C=2, lr_classifier__class_weight=balanced, lr_classifier__penalty=l2, lr_classifier__solver=saga; total time=   0.0s\n",
      "[CV] END lr_classifier__C=2, lr_classifier__class_weight=balanced, lr_classifier__penalty=l2, lr_classifier__solver=sag; total time=   0.0s\n",
      "[CV] END lr_classifier__C=2, lr_classifier__class_weight=balanced, lr_classifier__penalty=l2, lr_classifier__solver=sag; total time=   0.0s\n",
      "[CV] END lr_classifier__C=2, lr_classifier__class_weight=balanced, lr_classifier__penalty=l2, lr_classifier__solver=sag; total time=   0.0s\n",
      "[CV] END lr_classifier__C=2, lr_classifier__class_weight=balanced, lr_classifier__penalty=l2, lr_classifier__solver=sag; total time=   0.0s\n",
      "[CV] END lr_classifier__C=2, lr_classifier__class_weight=balanced, lr_classifier__penalty=l2, lr_classifier__solver=sag; total time=   0.0s\n",
      "[CV] END lr_classifier__C=2, lr_classifier__class_weight=balanced, lr_classifier__penalty=l2, lr_classifier__solver=sag; total time=   0.0s\n",
      "[CV] END lr_classifier__C=2, lr_classifier__class_weight=balanced, lr_classifier__penalty=l2, lr_classifier__solver=sag; total time=   0.0s\n",
      "[CV] END lr_classifier__C=2, lr_classifier__class_weight=balanced, lr_classifier__penalty=l2, lr_classifier__solver=sag; total time=   0.0s\n",
      "[CV] END lr_classifier__C=2, lr_classifier__class_weight=balanced, lr_classifier__penalty=l2, lr_classifier__solver=sag; total time=   0.0s\n",
      "[CV] END lr_classifier__C=2, lr_classifier__class_weight=balanced, lr_classifier__penalty=l2, lr_classifier__solver=sag; total time=   0.0s\n",
      "[CV] END lr_classifier__C=5, lr_classifier__class_weight=None, lr_classifier__penalty=l2, lr_classifier__solver=liblinear; total time=   0.0s\n",
      "[CV] END lr_classifier__C=5, lr_classifier__class_weight=None, lr_classifier__penalty=l2, lr_classifier__solver=liblinear; total time=   0.0s\n",
      "[CV] END lr_classifier__C=5, lr_classifier__class_weight=None, lr_classifier__penalty=l2, lr_classifier__solver=liblinear; total time=   0.0s\n",
      "[CV] END lr_classifier__C=5, lr_classifier__class_weight=None, lr_classifier__penalty=l2, lr_classifier__solver=liblinear; total time=   0.0s\n",
      "[CV] END lr_classifier__C=5, lr_classifier__class_weight=None, lr_classifier__penalty=l2, lr_classifier__solver=liblinear; total time=   0.0s\n",
      "[CV] END lr_classifier__C=5, lr_classifier__class_weight=None, lr_classifier__penalty=l2, lr_classifier__solver=liblinear; total time=   0.0s\n",
      "[CV] END lr_classifier__C=5, lr_classifier__class_weight=None, lr_classifier__penalty=l2, lr_classifier__solver=liblinear; total time=   0.0s\n",
      "[CV] END lr_classifier__C=5, lr_classifier__class_weight=None, lr_classifier__penalty=l2, lr_classifier__solver=liblinear; total time=   0.0s\n",
      "[CV] END lr_classifier__C=5, lr_classifier__class_weight=None, lr_classifier__penalty=l2, lr_classifier__solver=liblinear; total time=   0.0s\n",
      "[CV] END lr_classifier__C=5, lr_classifier__class_weight=None, lr_classifier__penalty=l2, lr_classifier__solver=liblinear; total time=   0.0s\n",
      "[CV] END lr_classifier__C=5, lr_classifier__class_weight=None, lr_classifier__penalty=l2, lr_classifier__solver=saga; total time=   0.0s\n",
      "[CV] END lr_classifier__C=5, lr_classifier__class_weight=None, lr_classifier__penalty=l2, lr_classifier__solver=saga; total time=   0.0s\n",
      "[CV] END lr_classifier__C=5, lr_classifier__class_weight=None, lr_classifier__penalty=l2, lr_classifier__solver=saga; total time=   0.0s\n",
      "[CV] END lr_classifier__C=5, lr_classifier__class_weight=None, lr_classifier__penalty=l2, lr_classifier__solver=saga; total time=   0.0s\n",
      "[CV] END lr_classifier__C=5, lr_classifier__class_weight=None, lr_classifier__penalty=l2, lr_classifier__solver=saga; total time=   0.0s\n",
      "[CV] END lr_classifier__C=5, lr_classifier__class_weight=None, lr_classifier__penalty=l2, lr_classifier__solver=saga; total time=   0.0s\n"
     ]
    },
    {
     "name": "stdout",
     "output_type": "stream",
     "text": [
      "[CV] END lr_classifier__C=5, lr_classifier__class_weight=None, lr_classifier__penalty=l2, lr_classifier__solver=saga; total time=   0.0s\n",
      "[CV] END lr_classifier__C=5, lr_classifier__class_weight=None, lr_classifier__penalty=l2, lr_classifier__solver=saga; total time=   0.0s\n",
      "[CV] END lr_classifier__C=5, lr_classifier__class_weight=None, lr_classifier__penalty=l2, lr_classifier__solver=saga; total time=   0.0s\n",
      "[CV] END lr_classifier__C=5, lr_classifier__class_weight=None, lr_classifier__penalty=l2, lr_classifier__solver=saga; total time=   0.0s\n",
      "[CV] END lr_classifier__C=5, lr_classifier__class_weight=None, lr_classifier__penalty=l2, lr_classifier__solver=sag; total time=   0.0s\n",
      "[CV] END lr_classifier__C=5, lr_classifier__class_weight=None, lr_classifier__penalty=l2, lr_classifier__solver=sag; total time=   0.0s\n",
      "[CV] END lr_classifier__C=5, lr_classifier__class_weight=None, lr_classifier__penalty=l2, lr_classifier__solver=sag; total time=   0.0s\n",
      "[CV] END lr_classifier__C=5, lr_classifier__class_weight=None, lr_classifier__penalty=l2, lr_classifier__solver=sag; total time=   0.0s\n",
      "[CV] END lr_classifier__C=5, lr_classifier__class_weight=None, lr_classifier__penalty=l2, lr_classifier__solver=sag; total time=   0.0s\n",
      "[CV] END lr_classifier__C=5, lr_classifier__class_weight=None, lr_classifier__penalty=l2, lr_classifier__solver=sag; total time=   0.0s\n",
      "[CV] END lr_classifier__C=5, lr_classifier__class_weight=None, lr_classifier__penalty=l2, lr_classifier__solver=sag; total time=   0.0s\n",
      "[CV] END lr_classifier__C=5, lr_classifier__class_weight=None, lr_classifier__penalty=l2, lr_classifier__solver=sag; total time=   0.0s\n",
      "[CV] END lr_classifier__C=5, lr_classifier__class_weight=None, lr_classifier__penalty=l2, lr_classifier__solver=sag; total time=   0.0s\n",
      "[CV] END lr_classifier__C=5, lr_classifier__class_weight=None, lr_classifier__penalty=l2, lr_classifier__solver=sag; total time=   0.0s\n",
      "[CV] END lr_classifier__C=5, lr_classifier__class_weight=balanced, lr_classifier__penalty=l2, lr_classifier__solver=liblinear; total time=   0.0s\n",
      "[CV] END lr_classifier__C=5, lr_classifier__class_weight=balanced, lr_classifier__penalty=l2, lr_classifier__solver=liblinear; total time=   0.0s\n",
      "[CV] END lr_classifier__C=5, lr_classifier__class_weight=balanced, lr_classifier__penalty=l2, lr_classifier__solver=liblinear; total time=   0.0s\n",
      "[CV] END lr_classifier__C=5, lr_classifier__class_weight=balanced, lr_classifier__penalty=l2, lr_classifier__solver=liblinear; total time=   0.0s\n",
      "[CV] END lr_classifier__C=5, lr_classifier__class_weight=balanced, lr_classifier__penalty=l2, lr_classifier__solver=liblinear; total time=   0.0s\n",
      "[CV] END lr_classifier__C=5, lr_classifier__class_weight=balanced, lr_classifier__penalty=l2, lr_classifier__solver=liblinear; total time=   0.0s\n",
      "[CV] END lr_classifier__C=5, lr_classifier__class_weight=balanced, lr_classifier__penalty=l2, lr_classifier__solver=liblinear; total time=   0.0s\n",
      "[CV] END lr_classifier__C=5, lr_classifier__class_weight=balanced, lr_classifier__penalty=l2, lr_classifier__solver=liblinear; total time=   0.0s\n",
      "[CV] END lr_classifier__C=5, lr_classifier__class_weight=balanced, lr_classifier__penalty=l2, lr_classifier__solver=liblinear; total time=   0.0s\n",
      "[CV] END lr_classifier__C=5, lr_classifier__class_weight=balanced, lr_classifier__penalty=l2, lr_classifier__solver=liblinear; total time=   0.0s\n",
      "[CV] END lr_classifier__C=5, lr_classifier__class_weight=balanced, lr_classifier__penalty=l2, lr_classifier__solver=saga; total time=   0.0s\n",
      "[CV] END lr_classifier__C=5, lr_classifier__class_weight=balanced, lr_classifier__penalty=l2, lr_classifier__solver=saga; total time=   0.0s\n",
      "[CV] END lr_classifier__C=5, lr_classifier__class_weight=balanced, lr_classifier__penalty=l2, lr_classifier__solver=saga; total time=   0.0s\n",
      "[CV] END lr_classifier__C=5, lr_classifier__class_weight=balanced, lr_classifier__penalty=l2, lr_classifier__solver=saga; total time=   0.0s\n",
      "[CV] END lr_classifier__C=5, lr_classifier__class_weight=balanced, lr_classifier__penalty=l2, lr_classifier__solver=saga; total time=   0.0s\n",
      "[CV] END lr_classifier__C=5, lr_classifier__class_weight=balanced, lr_classifier__penalty=l2, lr_classifier__solver=saga; total time=   0.0s\n",
      "[CV] END lr_classifier__C=5, lr_classifier__class_weight=balanced, lr_classifier__penalty=l2, lr_classifier__solver=saga; total time=   0.0s\n",
      "[CV] END lr_classifier__C=5, lr_classifier__class_weight=balanced, lr_classifier__penalty=l2, lr_classifier__solver=saga; total time=   0.0s\n",
      "[CV] END lr_classifier__C=5, lr_classifier__class_weight=balanced, lr_classifier__penalty=l2, lr_classifier__solver=saga; total time=   0.0s\n",
      "[CV] END lr_classifier__C=5, lr_classifier__class_weight=balanced, lr_classifier__penalty=l2, lr_classifier__solver=saga; total time=   0.0s\n",
      "[CV] END lr_classifier__C=5, lr_classifier__class_weight=balanced, lr_classifier__penalty=l2, lr_classifier__solver=sag; total time=   0.0s\n",
      "[CV] END lr_classifier__C=5, lr_classifier__class_weight=balanced, lr_classifier__penalty=l2, lr_classifier__solver=sag; total time=   0.0s\n",
      "[CV] END lr_classifier__C=5, lr_classifier__class_weight=balanced, lr_classifier__penalty=l2, lr_classifier__solver=sag; total time=   0.0s\n",
      "[CV] END lr_classifier__C=5, lr_classifier__class_weight=balanced, lr_classifier__penalty=l2, lr_classifier__solver=sag; total time=   0.0s\n",
      "[CV] END lr_classifier__C=5, lr_classifier__class_weight=balanced, lr_classifier__penalty=l2, lr_classifier__solver=sag; total time=   0.0s\n",
      "[CV] END lr_classifier__C=5, lr_classifier__class_weight=balanced, lr_classifier__penalty=l2, lr_classifier__solver=sag; total time=   0.0s\n",
      "[CV] END lr_classifier__C=5, lr_classifier__class_weight=balanced, lr_classifier__penalty=l2, lr_classifier__solver=sag; total time=   0.0s\n",
      "[CV] END lr_classifier__C=5, lr_classifier__class_weight=balanced, lr_classifier__penalty=l2, lr_classifier__solver=sag; total time=   0.0s\n",
      "[CV] END lr_classifier__C=5, lr_classifier__class_weight=balanced, lr_classifier__penalty=l2, lr_classifier__solver=sag; total time=   0.0s\n",
      "[CV] END lr_classifier__C=5, lr_classifier__class_weight=balanced, lr_classifier__penalty=l2, lr_classifier__solver=sag; total time=   0.0s\n"
     ]
    }
   ],
   "source": [
    "# https://scikit-learn.org/stable/modules/generated/sklearn.model_selection.GridSearchCV.html\n",
    "from sklearn.model_selection import GridSearchCV\n",
    "parameters = [{'lr_classifier__solver': ['liblinear', 'saga', 'sag'],\n",
    "               'lr_classifier__C':[0.5,1.0,1.5,2,5],\n",
    "               'lr_classifier__class_weight':[None,'balanced'],\n",
    "               'lr_classifier__penalty':['l2']}]\n",
    "\n",
    "gcv_results = GridSearchCV(estimator = pipeline_lr , param_grid=parameters, cv=10, verbose=2, scoring = 'recall', return_train_score=False)\n",
    "\n",
    "gcv_results = gcv_results.fit(X_train, y_train)"
   ]
  },
  {
   "cell_type": "markdown",
   "id": "4240d540",
   "metadata": {},
   "source": [
    "##### Solvers:\n",
    "- For small datasets, **liblinear** is a good choice, whereas **sag** and **saga** are faster for large ones.  \n",
    "\n",
    "##### Regularization strengths:\n",
    "\n",
    "- I have choosen these values [0.5,1.0,1.5,10,20].\n",
    "- The reason behind choosing these values because smaller values specify stronger regularization."
   ]
  },
  {
   "cell_type": "code",
   "execution_count": 29,
   "id": "c1a397ce",
   "metadata": {},
   "outputs": [
    {
     "data": {
      "text/plain": [
       "0.7080952380952381"
      ]
     },
     "execution_count": 29,
     "metadata": {},
     "output_type": "execute_result"
    }
   ],
   "source": [
    "gcv_results.best_score_"
   ]
  },
  {
   "cell_type": "code",
   "execution_count": 30,
   "id": "3248a6b9",
   "metadata": {},
   "outputs": [
    {
     "name": "stdout",
     "output_type": "stream",
     "text": [
      "[[103  27]\n",
      " [ 15  47]]\n"
     ]
    }
   ],
   "source": [
    "# confusion metrics after appying gcv\n",
    "from sklearn.metrics import confusion_matrix\n",
    "y_test_pred = gcv_results.predict(X_test)\n",
    "print(confusion_matrix(y_test, y_test_pred))"
   ]
  },
  {
   "cell_type": "code",
   "execution_count": 31,
   "id": "b42c8852",
   "metadata": {},
   "outputs": [
    {
     "name": "stdout",
     "output_type": "stream",
     "text": [
      "              precision    recall  f1-score   support\n",
      "\n",
      "           0       0.87      0.79      0.83       130\n",
      "           1       0.64      0.76      0.69        62\n",
      "\n",
      "    accuracy                           0.78       192\n",
      "   macro avg       0.75      0.78      0.76       192\n",
      "weighted avg       0.80      0.78      0.79       192\n",
      "\n"
     ]
    }
   ],
   "source": [
    "# printing classifiaction report\n",
    "from sklearn.metrics import classification_report\n",
    "print(classification_report(y_test, y_test_pred))"
   ]
  },
  {
   "cell_type": "code",
   "execution_count": 32,
   "id": "f4a43e7f",
   "metadata": {},
   "outputs": [
    {
     "data": {
      "text/plain": [
       "0.78125"
      ]
     },
     "execution_count": 32,
     "metadata": {},
     "output_type": "execute_result"
    }
   ],
   "source": [
    "accuracy_score(y_test, y_test_pred )"
   ]
  },
  {
   "cell_type": "code",
   "execution_count": 33,
   "id": "856661d0",
   "metadata": {},
   "outputs": [
    {
     "data": {
      "text/plain": [
       "0.7580645161290323"
      ]
     },
     "execution_count": 33,
     "metadata": {},
     "output_type": "execute_result"
    }
   ],
   "source": [
    "recall_score(y_test, y_test_pred)"
   ]
  },
  {
   "cell_type": "markdown",
   "id": "5cefddde",
   "metadata": {},
   "source": [
    "### Why it falls under Recall Metrics?\n",
    "- A person having diabetis(Class-1) and the model classifying his case as No-diabetis(Class-0) comes under False Negatives."
   ]
  },
  {
   "cell_type": "markdown",
   "id": "0a7352dc",
   "metadata": {},
   "source": [
    "# Summary\n",
    "- Using sklearn I have splitted the data into train and test.\n",
    "- Implemented the pipeline using Scalar and Logestic regression.\n",
    "- I have eliminated PCA because it is a small data set. I have tried by applying PCA the accuracy got decresed.\n",
    "- Values obtained, Accuracy = 0.80, Recall = 0.58 and ROC = 0.85\n",
    "- Here ROC metrics value is 0.85 so this model falls under good category.\n",
    "- After applying the grid search cross validation with solvers and regularizations the recall has incresed to 0.75 before it was 0.58.\n"
   ]
  }
 ],
 "metadata": {
  "kernelspec": {
   "display_name": "Python 3",
   "language": "python",
   "name": "python3"
  },
  "language_info": {
   "codemirror_mode": {
    "name": "ipython",
    "version": 3
   },
   "file_extension": ".py",
   "mimetype": "text/x-python",
   "name": "python",
   "nbconvert_exporter": "python",
   "pygments_lexer": "ipython3",
   "version": "3.8.0"
  }
 },
 "nbformat": 4,
 "nbformat_minor": 5
}
